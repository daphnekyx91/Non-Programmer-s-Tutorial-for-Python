{
 "cells": [
  {
   "cell_type": "code",
   "execution_count": 1,
   "metadata": {},
   "outputs": [
    {
     "name": "stdout",
     "output_type": "stream",
     "text": [
      "The absolute values of 23 and -23  are equal\n"
     ]
    }
   ],
   "source": [
    "a = 23\n",
    "b = -23\n",
    "\n",
    "def absolut_value(n):\n",
    "    if n < 0:\n",
    "        n = -n\n",
    "    return n\n",
    "\n",
    "if absolut_value(a) == absolut_value(b):\n",
    "    print('The absolute values of' , a , \"and\", b, ' are equal')\n",
    "else:\n",
    "    print('The absolute values of' , a , \"and\", b, ' are not equal')\n",
    "    \n",
    "\n",
    "# [def] refers to function definition\n",
    "# name of new function [absolut_value]\n",
    "# 'return' returns a value\n",
    "\n"
   ]
  },
  {
   "cell_type": "code",
   "execution_count": 2,
   "metadata": {},
   "outputs": [
    {
     "name": "stdout",
     "output_type": "stream",
     "text": [
      "hello\n"
     ]
    }
   ],
   "source": [
    "def hello():\n",
    "    print('hello')\n",
    "\n",
    "hello()"
   ]
  },
  {
   "cell_type": "code",
   "execution_count": 3,
   "metadata": {},
   "outputs": [
    {
     "name": "stdout",
     "output_type": "stream",
     "text": [
      "hello\n",
      "hello\n",
      "\n",
      "welcome fred\n",
      "\n",
      "width= 4 height= 6 area= 24\n"
     ]
    }
   ],
   "source": [
    "def hello():\n",
    "    print('hello')\n",
    "    \n",
    "def area( width, height) :\n",
    "    return width* height\n",
    "\n",
    "def print_welcome(name):\n",
    "    print('welcome', name)\n",
    "    \n",
    "hello()\n",
    "hello()\n",
    "\n",
    "print()\n",
    "\n",
    "print_welcome('fred')\n",
    "\n",
    "print()\n",
    "\n",
    "w= 4\n",
    "h = 6\n",
    "print ('width=' , w, 'height=' , h, 'area=', area(w,h))\n"
   ]
  },
  {
   "cell_type": "code",
   "execution_count": 6,
   "metadata": {},
   "outputs": [
    {
     "name": "stdout",
     "output_type": "stream",
     "text": [
      "in print_func a=  17\n",
      "a=  4\n"
     ]
    }
   ],
   "source": [
    "a = 4             #outside the [def] so outside a=4\n",
    "\n",
    "def print_func():\n",
    "    a = 17       #local variable, only assign value to the ned\n",
    "    print('in print_func a= ', a)\n",
    "    \n",
    "\n",
    "print_func()\n",
    "print('a= ', a)"
   ]
  },
  {
   "cell_type": "code",
   "execution_count": 8,
   "metadata": {},
   "outputs": [
    {
     "name": "stdout",
     "output_type": "stream",
     "text": [
      "in a_func a_var= 15\n",
      "in a_func b_var = 115\n",
      "in d_func d_var = 30\n",
      "in a_func e_var = 25\n",
      "a_var = 10\n",
      "b_var = 15\n",
      "c_var = 125\n"
     ]
    },
    {
     "ename": "NameError",
     "evalue": "name 'd_var' is not defined",
     "output_type": "error",
     "traceback": [
      "\u001b[1;31m---------------------------------------------------------------------------\u001b[0m",
      "\u001b[1;31mNameError\u001b[0m                                 Traceback (most recent call last)",
      "\u001b[1;32m<ipython-input-8-3c3df06bc835>\u001b[0m in \u001b[0;36m<module>\u001b[1;34m\u001b[0m\n\u001b[0;32m     19\u001b[0m \u001b[0mprint\u001b[0m\u001b[1;33m(\u001b[0m\u001b[1;34m'b_var ='\u001b[0m\u001b[1;33m,\u001b[0m \u001b[0mb_var\u001b[0m\u001b[1;33m)\u001b[0m\u001b[1;33m\u001b[0m\u001b[1;33m\u001b[0m\u001b[0m\n\u001b[0;32m     20\u001b[0m \u001b[0mprint\u001b[0m\u001b[1;33m(\u001b[0m\u001b[1;34m'c_var ='\u001b[0m\u001b[1;33m,\u001b[0m \u001b[0mc_var\u001b[0m\u001b[1;33m)\u001b[0m\u001b[1;33m\u001b[0m\u001b[1;33m\u001b[0m\u001b[0m\n\u001b[1;32m---> 21\u001b[1;33m \u001b[0mprint\u001b[0m\u001b[1;33m(\u001b[0m\u001b[1;34m'd_var ='\u001b[0m\u001b[1;33m,\u001b[0m \u001b[0md_var\u001b[0m\u001b[1;33m)\u001b[0m\u001b[1;33m\u001b[0m\u001b[1;33m\u001b[0m\u001b[0m\n\u001b[0m",
      "\u001b[1;31mNameError\u001b[0m: name 'd_var' is not defined"
     ]
    }
   ],
   "source": [
    "#more complex example\n",
    "\n",
    "a_var = 10\n",
    "b_var = 15\n",
    "e_var = 25\n",
    "\n",
    "def a_func(a_var):\n",
    "    print('in a_func a_var=', a_var)\n",
    "    b_var = 100 + a_var\n",
    "    d_var = 2* a_var\n",
    "    print('in a_func b_var =', b_var)\n",
    "    print('in d_func d_var =', d_var)\n",
    "    print('in a_func e_var =', e_var)\n",
    "    return b_var + 10\n",
    "\n",
    "c_var = a_func(b_var)\n",
    "\n",
    "print('a_var =', a_var)\n",
    "print('b_var =', b_var)\n",
    "print('c_var =', c_var)\n",
    "print('d_var =', d_var)\n",
    "\n",
    "#ERROR for d_var because it is derived from [a_func] function\n",
    "#not value assigned to d_var\n"
   ]
  },
  {
   "cell_type": "code",
   "execution_count": 2,
   "metadata": {},
   "outputs": [
    {
     "name": "stdout",
     "output_type": "stream",
     "text": [
      "Options:\n",
      " 'p' print options\n",
      " 'c' convert from Celsius\n",
      " 'f' convert from Fahrenheit\n",
      " 'q' quit the program\n",
      "option:c\n",
      "Celsius temperature:100\n",
      "Fahrenheit: 212.0\n",
      "option:p\n",
      "Options:\n",
      " 'p' print options\n",
      " 'c' convert from Celsius\n",
      " 'f' convert from Fahrenheit\n",
      " 'q' quit the program\n",
      "option:q\n"
     ]
    }
   ],
   "source": [
    "def print_options():\n",
    "    print('Options:')\n",
    "    print(\" 'p' print options\")\n",
    "    print(\" 'c' convert from Celsius\")\n",
    "    print(\" 'f' convert from Fahrenheit\")\n",
    "    print(\" 'q' quit the program\")\n",
    "    \n",
    "def cel_to_far(c_temp):\n",
    "    return 9.0/5.0 * c_temp +32\n",
    "\n",
    "def far_to_cel(f_temp):\n",
    "    return (f-temp - 32.0) * 5.0/9.0\n",
    "\n",
    "choice = \"p\"\n",
    "\n",
    "while choice != \"q\":\n",
    "    if choice == \"c\":\n",
    "        c_temp = float(input('Celsius temperature:'))\n",
    "        print('Fahrenheit:', cel_to_far(c_temp))\n",
    "        choice = input(\"option:\")\n",
    "    elif choice == \"f\":\n",
    "        f_temp = float(input('Fahrenheit temperature:'))\n",
    "        print('Celsius:', far_to_cel(f_temp))\n",
    "        choice = input(\"option:\")\n",
    "    elif choice == 'p':\n",
    "        print_options()\n",
    "        choice = input(\"option:\")"
   ]
  },
  {
   "cell_type": "code",
   "execution_count": 6,
   "metadata": {},
   "outputs": [
    {
     "name": "stdout",
     "output_type": "stream",
     "text": [
      "your name:dap\n",
      "Hello!\n",
      "Welcome dap\n",
      "\n",
      "To find area of rectangle\n",
      "enter the width and height below.\n",
      "\n",
      "Width: 5\n",
      "height: 8\n",
      "Width = 5.0 Height = 8.0 so Area=  40.0\n"
     ]
    }
   ],
   "source": [
    "#Area\n",
    "\n",
    "def hello():\n",
    "    print('Hello!')\n",
    "\n",
    "def area(width, height):\n",
    "    return width * height\n",
    "\n",
    "def print_welcome(name):\n",
    "    print('Welcome', name)\n",
    "    \n",
    "def positive_input(prompt):\n",
    "    number = float (input(prompt))\n",
    "    while number <= 0:\n",
    "        print('Must be a positive number')\n",
    "        number = float(input(prompt))\n",
    "    return number\n",
    "\n",
    "name = input('your name:')\n",
    "hello()\n",
    "print_welcome(name)\n",
    "print()\n",
    "print('To find area of rectangle')\n",
    "print('enter the width and height below.')\n",
    "print()\n",
    "\n",
    "w = positive_input('Width: ')\n",
    "h = positive_input('height: ')\n",
    "\n",
    "print('Width =' , w, 'Height =' , h, 'so Area= ', area(w,h))"
   ]
  },
  {
   "cell_type": "code",
   "execution_count": null,
   "metadata": {},
   "outputs": [
    {
     "name": "stdout",
     "output_type": "stream",
     "text": [
      "this program will calculate the area of a square, circle or rectangle\n",
      "\n",
      "Options: \n",
      "s = calculate the area of a square.\n",
      "c = calculate the area of a circle.\n",
      "r = calculate the area of a rectangle.\n",
      "q = quit\n",
      "\n",
      "Please enter your choice: r\n",
      "width:  3\n",
      "height: 8\n",
      "the area of rectangle is  24.0\n",
      "\n",
      "Options: \n",
      "s = calculate the area of a square.\n",
      "c = calculate the area of a circle.\n",
      "r = calculate the area of a rectangle.\n",
      "q = quit\n",
      "\n"
     ]
    }
   ],
   "source": [
    "def square (L):\n",
    "    return L*L\n",
    "\n",
    "def rectangle(width, height):\n",
    "    return width * height\n",
    "\n",
    "def circle (radius):\n",
    "    return 3.14159 * radius **2\n",
    "\n",
    "def options():\n",
    "    print()\n",
    "    print('Options: ')\n",
    "    print('s = calculate the area of a square.')\n",
    "    print('c = calculate the area of a circle.')\n",
    "    print('r = calculate the area of a rectangle.')\n",
    "    print(\"q = quit\")\n",
    "    print()\n",
    "    \n",
    "print('this program will calculate the area of a square, circle or rectangle')\n",
    "choice = 'x'\n",
    "\n",
    "options()\n",
    "\n",
    "while choice != 'q':\n",
    "    choice = input('Please enter your choice: ')\n",
    "    if choice == 's':\n",
    "        L =float(input('length of square side: '))\n",
    "        print('are of square is ', square(L))\n",
    "        options()\n",
    "    elif choice == 'c':\n",
    "        radius = float(input('radius of circle: '))\n",
    "        print('the area of the circle is ', circle(radius))\n",
    "        options()\n",
    "    elif choice == 'r':\n",
    "        width = float(input('width:  '))\n",
    "        height = float(input('height: '))\n",
    "        print('the area of rectangle is ', rectangle(width, height))\n",
    "        options()\n",
    "    elif choice == 'q':\n",
    "        print(\" \", end=\" \")\n",
    "    else:\n",
    "        print('unrecognised option.')\n",
    "        options()"
   ]
  },
  {
   "cell_type": "code",
   "execution_count": 2,
   "metadata": {},
   "outputs": [
    {
     "name": "stdout",
     "output_type": "stream",
     "text": [
      "The absolute values of -23 and 23 are different\n"
     ]
    }
   ],
   "source": [
    "a = -23\n",
    "b = 23\n",
    "\n",
    "def absolute_value(n):\n",
    "    if n < 0:\n",
    "        n = -2\n",
    "    return n\n",
    "\n",
    "if absolute_value(a) == absolute_value(b):\n",
    "    print('The absolute values of' , a, \"and\" , b, \"are equal\")\n",
    "else:\n",
    "    print('The absolute values of' , a, \"and\" , b, \"are different\")"
   ]
  },
  {
   "cell_type": "code",
   "execution_count": 6,
   "metadata": {},
   "outputs": [
    {
     "name": "stdout",
     "output_type": "stream",
     "text": [
      "Please provide name:  fred\n",
      "Please provide width:  4\n",
      "Please provide height:  7\n",
      "hello\n",
      "hello\n",
      "welcome, fred\n",
      "28.0\n"
     ]
    }
   ],
   "source": [
    "name = input('Please provide name:  ')\n",
    "\n",
    "\n",
    "width = float(input('Please provide width:  '))\n",
    "height = float(input('Please provide height:  '))\n",
    "\n",
    "def hello():\n",
    "    print('hello')\n",
    "    \n",
    "def area(width, height):\n",
    "    return width*height\n",
    "\n",
    "def print_welcome(name):\n",
    "    print('welcome,' , name)\n",
    "\n",
    "hello()\n",
    "hello()\n",
    "print_welcome(name)\n",
    "\n",
    "\n",
    "\n",
    "def area(width, height):\n",
    "    return width*height\n",
    "\n",
    "print(area(width, height))"
   ]
  },
  {
   "cell_type": "code",
   "execution_count": 8,
   "metadata": {},
   "outputs": [
    {
     "name": "stdout",
     "output_type": "stream",
     "text": [
      "in print_func a = 17\n",
      "a =  4\n"
     ]
    }
   ],
   "source": [
    "a = 4\n",
    "\n",
    "def print_funct():\n",
    "    a= 17\n",
    "    print('in print_funct a =', a)\n",
    "    \n",
    "print_func()\n",
    "print('a = ', a)"
   ]
  },
  {
   "cell_type": "code",
   "execution_count": 9,
   "metadata": {},
   "outputs": [
    {
     "name": "stdout",
     "output_type": "stream",
     "text": [
      "in a_func a_var = 15\n",
      "in a_func b_var = 115\n",
      "in a_func d_var = 30\n",
      "in a_func e_var = 25\n",
      "a_var = 10\n",
      "b_var = 15\n",
      "c_var = 125\n"
     ]
    },
    {
     "ename": "NameError",
     "evalue": "name 'd_var' is not defined",
     "output_type": "error",
     "traceback": [
      "\u001b[1;31m---------------------------------------------------------------------------\u001b[0m",
      "\u001b[1;31mNameError\u001b[0m                                 Traceback (most recent call last)",
      "\u001b[1;32m<ipython-input-9-519d647ca561>\u001b[0m in \u001b[0;36m<module>\u001b[1;34m\u001b[0m\n\u001b[0;32m     17\u001b[0m \u001b[0mprint\u001b[0m\u001b[1;33m(\u001b[0m\u001b[1;34m\"b_var =\"\u001b[0m\u001b[1;33m,\u001b[0m \u001b[0mb_var\u001b[0m\u001b[1;33m)\u001b[0m\u001b[1;33m\u001b[0m\u001b[1;33m\u001b[0m\u001b[0m\n\u001b[0;32m     18\u001b[0m \u001b[0mprint\u001b[0m\u001b[1;33m(\u001b[0m\u001b[1;34m\"c_var =\"\u001b[0m\u001b[1;33m,\u001b[0m \u001b[0mc_var\u001b[0m\u001b[1;33m)\u001b[0m\u001b[1;33m\u001b[0m\u001b[1;33m\u001b[0m\u001b[0m\n\u001b[1;32m---> 19\u001b[1;33m \u001b[0mprint\u001b[0m\u001b[1;33m(\u001b[0m\u001b[1;34m\"d_var =\"\u001b[0m\u001b[1;33m,\u001b[0m \u001b[0md_var\u001b[0m\u001b[1;33m)\u001b[0m\u001b[1;33m\u001b[0m\u001b[1;33m\u001b[0m\u001b[0m\n\u001b[0m",
      "\u001b[1;31mNameError\u001b[0m: name 'd_var' is not defined"
     ]
    }
   ],
   "source": [
    "a_var = 10\n",
    "b_var = 15\n",
    "e_var = 25\n",
    "\n",
    "def a_func(a_var):\n",
    "    print('in a_func a_var =', a_var)\n",
    "    b_var = 100 +a_var\n",
    "    d_var = 2*a_var\n",
    "    print('in a_func b_var =', b_var)\n",
    "    print('in a_func d_var =', d_var)\n",
    "    print('in a_func e_var =', e_var)\n",
    "    return b_var + 10\n",
    "\n",
    "c_var = a_func(b_var)\n",
    "\n",
    "print(\"a_var =\", a_var)\n",
    "print(\"b_var =\", b_var)\n",
    "print(\"c_var =\", c_var)\n",
    "print(\"d_var =\", d_var)\n",
    "\n",
    "#Error for d_var, because outside the function a_func(), there is no value\n",
    "#hence no output"
   ]
  },
  {
   "cell_type": "code",
   "execution_count": 1,
   "metadata": {},
   "outputs": [
    {
     "name": "stdout",
     "output_type": "stream",
     "text": [
      "Options: \n",
      " 'p' print options \n",
      " 'c' converts from Celsius \n",
      " 'f' converts from Fahrenheit \n",
      " 'q' quits the program \n",
      "Options:  p\n",
      "Options: \n",
      " 'p' print options \n",
      " 'c' converts from Celsius \n",
      " 'f' converts from Fahrenheit \n",
      " 'q' quits the program \n",
      "Options:  f\n",
      "Fahrenheit temperature:  65\n",
      "Celsius:   18.333333333333332\n",
      "Option:  q\n"
     ]
    }
   ],
   "source": [
    "#converts temperature to Fahrenheit or Celsius\n",
    "\n",
    "def print_options():   #this function prints out list of options\n",
    "    print('Options: ')\n",
    "    print(\" 'p' print options \")\n",
    "    print(\" 'c' converts from Celsius \")\n",
    "    print(\" 'f' converts from Fahrenheit \")\n",
    "    print(\" 'q' quits the program \")\n",
    "    \n",
    "def cel_to_far(c_temp):\n",
    "    return 9.0/5.0 * c_temp + 32\n",
    "\n",
    "def far_to_cel(f_temp):\n",
    "    return (f_temp - 32.0)*5.0/9.0\n",
    "\n",
    "choice = \"p\" #input options\n",
    "\n",
    "print_options()\n",
    "\n",
    "while choice != \"q\":\n",
    "    if choice == \"c\":\n",
    "        c_temp = float(input(\"Celsius temperature:  \"))\n",
    "        print(\"Fahrenheit:  \", cel_to_far(c_temp))\n",
    "        choice = input(\"Option:  \")\n",
    "    elif choice == \"f\":\n",
    "        f_temp = float(input(\"Fahrenheit temperature:  \"))\n",
    "        print(\"Celsius:  \", far_to_cel(f_temp))\n",
    "        choice = input(\"Option:  \")\n",
    "    elif choice == \"p\":\n",
    "        print_options()\n",
    "        choice = input('Options:  ')\n",
    "        "
   ]
  },
  {
   "cell_type": "code",
   "execution_count": 8,
   "metadata": {},
   "outputs": [
    {
     "name": "stdout",
     "output_type": "stream",
     "text": [
      "Options: \n",
      " 'p' print options \n",
      " 'c' converts from Celsius \n",
      " 'f' converts from Fahrenheit \n",
      " 'q' quits the program \n",
      "Option:  6\n",
      "ERROR - Please input the correct options \n",
      "Option:  p\n",
      "Options: \n",
      " 'p' print options \n",
      " 'c' converts from Celsius \n",
      " 'f' converts from Fahrenheit \n",
      " 'q' quits the program \n",
      "Option:  q\n",
      "ERROR - Please input the correct options \n"
     ]
    }
   ],
   "source": [
    "def print_options():   #this function prints out list of options\n",
    "    print('Options: ')\n",
    "    print(\" 'p' print options \")\n",
    "    print(\" 'c' converts from Celsius \")\n",
    "    print(\" 'f' converts from Fahrenheit \")\n",
    "    print(\" 'q' quits the program \")\n",
    "    \n",
    "def cel_to_far(c_temp):\n",
    "    return 9.0/5.0 * c_temp + 32\n",
    "\n",
    "def far_to_cel(f_temp):\n",
    "    return (f_temp - 32.0)*5.0/9.0\n",
    "\n",
    "print_options()\n",
    "\n",
    "choice = \"p\" #input options\n",
    "\n",
    "while choice != \"q\":\n",
    "    choice = input(\"Option:  \")\n",
    "    if choice == \"c\":\n",
    "        c_temp = float(input(\"Celsius temperature:  \"))\n",
    "        print(\"Fahrenheit:  \", cel_to_far(c_temp))\n",
    "        \n",
    "    elif choice == \"f\":\n",
    "        f_temp = float(input(\"Fahrenheit temperature:  \"))\n",
    "        print(\"Celsius:  \", far_to_cel(f_temp))\n",
    "        \n",
    "    elif choice == \"p\":\n",
    "        print_options()\n",
    "        \n",
    "    else:\n",
    "        print('ERROR - Please input the correct options ')\n",
    "        "
   ]
  },
  {
   "cell_type": "code",
   "execution_count": 1,
   "metadata": {},
   "outputs": [
    {
     "name": "stdout",
     "output_type": "stream",
     "text": [
      "Your Name:  fa\n",
      "Hello!\n",
      "Welcome,  fa\n",
      "\n",
      "to find are of rectangle\n",
      "enter the width and height below\n",
      "\n",
      "Width   6\n",
      "Height   8\n",
      "Width:  6.0 Height:  8.0 so Area =  48.0\n"
     ]
    }
   ],
   "source": [
    "#Program to calculate area of rectangle/square\n",
    "\n",
    "def hello():\n",
    "    print('Hello!')\n",
    "    \n",
    "def area(width, height):\n",
    "    return width* height\n",
    "\n",
    "def print_welcome(name):\n",
    "    print(\"Welcome, \",  name)\n",
    "    \n",
    "def positive_input(prmt):\n",
    "    number = float(input(prmt))\n",
    "    while number <= 0:\n",
    "        print('Must be a positive number')\n",
    "        number = float(input(prmt))\n",
    "    return number\n",
    "\n",
    "name = input(\"Your Name:  \")\n",
    "hello()\n",
    "print_welcome(name)\n",
    "print()\n",
    "print(\"to find are of rectangle\")\n",
    "print(\"enter the width and height below\")\n",
    "print()\n",
    "w = positive_input('Width   ')\n",
    "h = positive_input('Height   ')\n",
    "\n",
    "print('Width: ' , w, \"Height: \", h, \"so Area = \", area(w, h))"
   ]
  },
  {
   "cell_type": "code",
   "execution_count": 2,
   "metadata": {},
   "outputs": [
    {
     "name": "stdout",
     "output_type": "stream",
     "text": [
      "This program will calculate the area of a square, circle or rectangle.\n",
      "\n",
      "Options:  \n",
      "s = calculate square area\n",
      "c = calculate circle area\n",
      "r = calculate rectangle area\n",
      "q = quit\n",
      "\n",
      "Please enter your choice:   r\n",
      "Width of rectangle:  4\n",
      "Height of rectangle:  9\n",
      "Area of rectangle:   36.0\n",
      "\n",
      "Options:  \n",
      "s = calculate square area\n",
      "c = calculate circle area\n",
      "r = calculate rectangle area\n",
      "q = quit\n",
      "\n",
      "Please enter your choice:   q\n",
      "   "
     ]
    }
   ],
   "source": [
    "def sq(L):\n",
    "    return L*L\n",
    "\n",
    "def rect(width, height):\n",
    "    return width*height\n",
    "\n",
    "def cir(radius):\n",
    "    return 3.14159 * radius**2\n",
    "\n",
    "def options():\n",
    "    print()\n",
    "    print(\"Options:  \")\n",
    "    print(\"s = calculate square area\")\n",
    "    print(\"c = calculate circle area\")\n",
    "    print(\"r = calculate rectangle area\")\n",
    "    print(\"q = quit\")\n",
    "    print()\n",
    "    \n",
    "print(\"This program will calculate the area of a square, circle or rectangle.\")\n",
    "choice = \"x\" #assign value to variable\n",
    "\n",
    "while choice != \"q\":\n",
    "    options()\n",
    "    choice = input('Please enter your choice:   ')\n",
    "    \n",
    "    if choice == \"s\":\n",
    "        L = float(input(\"Length of square side:  \"))\n",
    "        print(\"Area of square:  \", sq(L))\n",
    "        \n",
    "    elif choice == \"c\":\n",
    "        radius = float(input(\"Radius of circle:  \"))\n",
    "        print('Area of circle:  ', cir(radius))\n",
    "        \n",
    "    elif choice == \"r\":\n",
    "        width = float(input('Width of rectangle:  '))\n",
    "        height = float(input('Height of rectangle:  '))\n",
    "        print(\"Area of rectangle:  \", rect(width, height))\n",
    "        \n",
    "    elif choice == \"q\":\n",
    "        print(\"  \", end=\" \")\n",
    "        \n",
    "    else:\n",
    "        print(\"error, unrecognised option. try again\")\n",
    "        "
   ]
  },
  {
   "cell_type": "code",
   "execution_count": null,
   "metadata": {},
   "outputs": [],
   "source": []
  }
 ],
 "metadata": {
  "kernelspec": {
   "display_name": "Python 3",
   "language": "python",
   "name": "python3"
  },
  "language_info": {
   "codemirror_mode": {
    "name": "ipython",
    "version": 3
   },
   "file_extension": ".py",
   "mimetype": "text/x-python",
   "name": "python",
   "nbconvert_exporter": "python",
   "pygments_lexer": "ipython3",
   "version": "3.7.6"
  }
 },
 "nbformat": 4,
 "nbformat_minor": 4
}
