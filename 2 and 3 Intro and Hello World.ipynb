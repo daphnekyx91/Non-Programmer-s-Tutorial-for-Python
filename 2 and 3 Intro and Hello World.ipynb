{
 "cells": [
  {
   "cell_type": "code",
   "execution_count": 1,
   "metadata": {},
   "outputs": [
    {
     "name": "stdout",
     "output_type": "stream",
     "text": [
      "hello World!\n",
      "Hello World\n"
     ]
    }
   ],
   "source": [
    "#python is easy to learn\n",
    "#this hashtag is a comment\n",
    "\n",
    "print('hello World!')\n",
    "print(\"Hello World\")\n",
    "\n",
    "#print is a function\n",
    "#contain a parentheses containing zero or more arguements\n",
    "#can use \"\" or '' but must close them\n",
    "#the part in red is the output"
   ]
  },
  {
   "cell_type": "code",
   "execution_count": 2,
   "metadata": {},
   "outputs": [
    {
     "name": "stdout",
     "output_type": "stream",
     "text": [
      "Halt!\n",
      "Who Goes there? Josh\n",
      "You may pass, Josh\n"
     ]
    }
   ],
   "source": [
    "print('Halt!')\n",
    "print('Who Goes there? Josh')\n",
    "print('You may pass, Josh')"
   ]
  },
  {
   "cell_type": "code",
   "execution_count": 3,
   "metadata": {},
   "outputs": [
    {
     "name": "stdout",
     "output_type": "stream",
     "text": [
      "Jack and Jill went up a hill\n",
      "to fetch a pail of water;\n",
      "Jack fell down, and broke his crown,\n",
      "and Jill cam tumbling after.\n"
     ]
    }
   ],
   "source": [
    "print(\"Jack and Jill went up a hill\")\n",
    "print(\"to fetch a pail of water;\")\n",
    "print(\"Jack fell down, and broke his crown,\")\n",
    "print(\"and Jill cam tumbling after.\")"
   ]
  },
  {
   "cell_type": "code",
   "execution_count": 6,
   "metadata": {},
   "outputs": [
    {
     "name": "stdout",
     "output_type": "stream",
     "text": [
      "2 + 2 is 4\n",
      "3 * 4 is 12\n",
      "100 - 1 99\n",
      "(33 + 2) /5 + 11.5 is 18.5\n"
     ]
    }
   ],
   "source": [
    "#Expressions\n",
    "#explain the mathematical equation and get output\n",
    "\n",
    "print(\"2 + 2 is\", 2+2)\n",
    "print('3 * 4 is', 3*4)\n",
    "print(\"100 - 1\", 100-1)\n",
    "print(\"(33 + 2) /5 + 11.5 is\", (33+2)/ 5 + 11.5 )\n",
    "\n",
    "#pay attention to column and formula\n",
    "\n",
    "#print function has 2 arguments,\n",
    "#with each of arguements separated by a column\n",
    "#1st argument \"2 + 2 is\", it is a string\n",
    "#2nd argument is a Arithmetic Expression, it has value"
   ]
  },
  {
   "cell_type": "code",
   "execution_count": 17,
   "metadata": {},
   "outputs": [
    {
     "name": "stdout",
     "output_type": "stream",
     "text": [
      "5**2 is 25\n",
      "** refers to exponentiation/power\n"
     ]
    }
   ],
   "source": [
    "#7 basic operations for number\n",
    "\n",
    "print(\"5**2 is\", 5**2)\n",
    "print(\"** refers to exponentiation/power\")"
   ]
  },
  {
   "cell_type": "code",
   "execution_count": 16,
   "metadata": {},
   "outputs": [
    {
     "name": "stdout",
     "output_type": "stream",
     "text": [
      "2*3 is 6\n",
      "* refers to mutliplication\n"
     ]
    }
   ],
   "source": [
    "print(\"2*3 is\", 2*3)\n",
    "print(\"* refers to mutliplication\")\n"
   ]
  },
  {
   "cell_type": "code",
   "execution_count": 14,
   "metadata": {},
   "outputs": [
    {
     "name": "stdout",
     "output_type": "stream",
     "text": [
      "14/3 is 4.666666666666667\n",
      "/ refers to division\n"
     ]
    }
   ],
   "source": [
    "print(\"14/3 is\", 14/3)\n",
    "print(\"/ refers to division\")"
   ]
  },
  {
   "cell_type": "code",
   "execution_count": 18,
   "metadata": {},
   "outputs": [
    {
     "name": "stdout",
     "output_type": "stream",
     "text": [
      "14//3 is 4\n",
      "// refers to interger Division\n"
     ]
    }
   ],
   "source": [
    "print(\"14//3 is\", 14//3)\n",
    "print(\"// refers to interger Division\")"
   ]
  },
  {
   "cell_type": "code",
   "execution_count": 19,
   "metadata": {},
   "outputs": [
    {
     "name": "stdout",
     "output_type": "stream",
     "text": [
      "14%3 is 2\n",
      "% refers to Modulo/ Remainder\n"
     ]
    }
   ],
   "source": [
    "print(\"14%3 is\", 14%3)\n",
    "print(\"% refers to Modulo/ Remainder\")"
   ]
  },
  {
   "cell_type": "code",
   "execution_count": 20,
   "metadata": {},
   "outputs": [
    {
     "name": "stdout",
     "output_type": "stream",
     "text": [
      "1+2 is 3\n",
      "+ refers to Addition\n"
     ]
    }
   ],
   "source": [
    "print(\"1+2 is\", 1+2)\n",
    "print(\"+ refers to Addition\")"
   ]
  },
  {
   "cell_type": "code",
   "execution_count": 21,
   "metadata": {},
   "outputs": [
    {
     "name": "stdout",
     "output_type": "stream",
     "text": [
      "4-1 is 3\n",
      "- refers to Substraction\n"
     ]
    }
   ],
   "source": [
    "print(\"4-1 is\", 4-1)\n",
    "print(\"- refers to Substraction\")\n",
    "\n",
    "#parentheses ()\n",
    "#exponents **\n",
    "#multiplication *, division/, integer division //, and remainder%\n",
    "#addition+ and substraction-\n"
   ]
  },
  {
   "cell_type": "code",
   "execution_count": 23,
   "metadata": {},
   "outputs": [
    {
     "name": "stdout",
     "output_type": "stream",
     "text": [
      "3.142857142857143\n"
     ]
    }
   ],
   "source": [
    "#comment to add explanation\n",
    "\n",
    "print(22/7) #well, a good approximation"
   ]
  },
  {
   "cell_type": "code",
   "execution_count": 25,
   "metadata": {},
   "outputs": [
    {
     "name": "stdout",
     "output_type": "stream",
     "text": [
      " Something's rotten in the state of Denmark.\n",
      "                  ---Shakespeare\n"
     ]
    }
   ],
   "source": [
    "print(\" Something's rotten in the state of Denmark.\" )\n",
    "print(\"                  ---Shakespeare\")"
   ]
  },
  {
   "cell_type": "code",
   "execution_count": 39,
   "metadata": {},
   "outputs": [
    {
     "name": "stdout",
     "output_type": "stream",
     "text": [
      "Firstish Grade\n",
      "1 + 1 = 2\n",
      "2 + 4 = 6\n",
      "5 - 2 = 3\n",
      "\n",
      "Thirdish Grade\n",
      "243 - 23 = 220\n",
      "12 * 4 = 48\n",
      "12/3 = 4.0\n",
      "13/3 = 4 R 1\n",
      "\n",
      "Junior High\n",
      "123.56 - 62.12 = 61.440000000000005\n",
      "(4 + 3) *2 = 14\n",
      "4 + 3 * 2 = 10\n",
      "3 ** 2 = 9\n"
     ]
    }
   ],
   "source": [
    "#this is not quite true outside of USA\n",
    "#and this is based on my dim memories of younger years\n",
    "\n",
    "print('Firstish Grade')\n",
    "print('1 + 1 =', 1+1)\n",
    "print('2 + 4 =', 2+4)\n",
    "print('5 - 2 =', 5-2)\n",
    "print() # put spacing\n",
    "print('Thirdish Grade')\n",
    "print('243 - 23 =', 243-23)\n",
    "print(\"12 * 4 =\",12*4 )\n",
    "print(\"12/3 =\", 12/3 )\n",
    "print(\"13/3 =\", 13//3, \"R\", 13%3)\n",
    "#division for interger and 'R' remainder\n",
    "print()\n",
    "print(\"Junior High\")\n",
    "print(\"123.56 - 62.12 =\", 123.56 - 62.12)\n",
    "print(\"(4 + 3) *2 =\", (4+3)*2)\n",
    "print(\"4 + 3 * 2 =\", 4+3*2)\n",
    "print( \"3 ** 2 =\", 3**2)"
   ]
  },
  {
   "cell_type": "code",
   "execution_count": 40,
   "metadata": {},
   "outputs": [
    {
     "name": "stdout",
     "output_type": "stream",
     "text": [
      "Daphne Kwok born on 16th December 1991\n"
     ]
    }
   ],
   "source": [
    "print(\"Daphne Kwok\", \"born on\", \"16th December 1991\")"
   ]
  },
  {
   "cell_type": "code",
   "execution_count": 43,
   "metadata": {},
   "outputs": [
    {
     "name": "stdout",
     "output_type": "stream",
     "text": [
      "(100-43)/7+2**2= 12 R 1\n"
     ]
    }
   ],
   "source": [
    "print(\"(100-43)/7+2**2=\", (100-43)//7+2*2, \"R\",(100-43)%7)"
   ]
  },
  {
   "cell_type": "code",
   "execution_count": 45,
   "metadata": {},
   "outputs": [
    {
     "name": "stdout",
     "output_type": "stream",
     "text": [
      "12.142857142857142\n"
     ]
    }
   ],
   "source": [
    "print((100-43)/7+2**2)"
   ]
  },
  {
   "cell_type": "code",
   "execution_count": 1,
   "metadata": {},
   "outputs": [
    {
     "name": "stdout",
     "output_type": "stream",
     "text": [
      "5**5 =  3125\n",
      "6*7 =  42\n",
      "56/8 =  7.0\n",
      "14//6 =  2\n",
      "14%6 =  2\n",
      "5+6 =  11\n",
      "9-0 =  9\n"
     ]
    }
   ],
   "source": [
    "print(\"5**5 = \", 5**5)\n",
    "print(\"6*7 = \", 6*7)\n",
    "print(\"56/8 = \", 56/8)\n",
    "print(\"14//6 = \", 14//6)\n",
    "print(\"14%6 = \", 14%6)\n",
    "print(\"5+6 = \", 5+6)\n",
    "print(\"9-0 = \", 9-0)"
   ]
  },
  {
   "cell_type": "code",
   "execution_count": null,
   "metadata": {},
   "outputs": [],
   "source": [
    "#Program file names\n",
    "\n",
    "#always save program with extension .py\n",
    "#only use standard characters for file names:letter, number, - and _\n",
    "#cannot use \"white\" space\n",
    "#no numbers at begining of name file, letters only"
   ]
  }
 ],
 "metadata": {
  "kernelspec": {
   "display_name": "Python 3",
   "language": "python",
   "name": "python3"
  },
  "language_info": {
   "codemirror_mode": {
    "name": "ipython",
    "version": 3
   },
   "file_extension": ".py",
   "mimetype": "text/x-python",
   "name": "python",
   "nbconvert_exporter": "python",
   "pygments_lexer": "ipython3",
   "version": "3.7.6"
  }
 },
 "nbformat": 4,
 "nbformat_minor": 4
}
