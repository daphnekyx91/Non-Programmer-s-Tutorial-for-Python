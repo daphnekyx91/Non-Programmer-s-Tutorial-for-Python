{
 "cells": [
  {
   "cell_type": "code",
   "execution_count": 4,
   "metadata": {},
   "outputs": [
    {
     "name": "stdout",
     "output_type": "stream",
     "text": [
      "1\n",
      "2\n",
      "3\n",
      "4\n",
      "5\n",
      "6\n",
      "7\n",
      "8\n",
      "9\n",
      "10\n"
     ]
    }
   ],
   "source": [
    "#while function\n",
    "a=0\n",
    "while a < 10:\n",
    "    a = a + 1\n",
    "    print(a)\n",
    "    \n",
    "#Control structure changes the order that statements are executed or decide if a certain statement will be run\n",
    "#First, set the initial value of the variable a to (0) zero\n",
    "#While the value of variable a is less than 10 to do the following\n",
    "#Increase the value of the varirable a by 1, a = a + 1\n",
    "#Print to screen what the present value of the variable a is equal to 9?!\n",
    "\n",
    "#Note:\n",
    "#The variable a will increase by 1\n",
    "#With each repeat, or loop of the 'while statement block'\n",
    "#e.g. a=1 then a=2 then a=3 etc. until a=9 then..\n",
    "#the code will finish adding 1 to a (now a=10), print the result,\n",
    "#and then exiting the 'while statement BLOCK'\n",
    "\n",
    "#while A< 10:\n",
    "#     a = a +1 <<- this while statement BLOCKS\n",
    "#     print(a)\n",
    "\n",
    "#Always remember to put a colon \":\" at the end of the while statement line"
   ]
  },
  {
   "cell_type": "code",
   "execution_count": 1,
   "metadata": {},
   "outputs": [
    {
     "name": "stdout",
     "output_type": "stream",
     "text": [
      " Enter Numbers to add to a sum.\n",
      "Enter 0 to quit\n",
      "Current Sum: 0\n",
      "Number?56\n",
      "Current Sum: 56.0\n",
      "Number?45\n",
      "Current Sum: 101.0\n",
      "Number?98\n",
      "Current Sum: 199.0\n",
      "Number?1\n",
      "Current Sum: 200.0\n",
      "Number?0\n",
      " Total Sum 200.0\n"
     ]
    }
   ],
   "source": [
    "#Another example of while\n",
    "\n",
    "a = 1\n",
    "s = 0\n",
    "\n",
    "print(' Enter Numbers to add to a sum.')\n",
    "print('Enter 0 to quit')\n",
    "\n",
    "while a!= 0:\n",
    "    print('Current Sum:', s)\n",
    "    a=float(input('Number?'))\n",
    "    s = s+a\n",
    "    \n",
    "print( ' Total Sum', s)"
   ]
  },
  {
   "cell_type": "code",
   "execution_count": 4,
   "metadata": {},
   "outputs": [
    {
     "name": "stdout",
     "output_type": "stream",
     "text": [
      "0 1 1 2 3 5 8 13 21 34 55 89 144 233 377 610 987 1597 2584 4181 \n"
     ]
    }
   ],
   "source": [
    "#This program calculated the Fibonacci sequence\n",
    "\n",
    "a = 0\n",
    "b = 1\n",
    "count =0\n",
    "max_count = 20\n",
    "\n",
    "#assign values to the variable\n",
    "\n",
    "while count < max_count:\n",
    "    count = count + 1\n",
    "    print( a, end=\" \")\n",
    "    \n",
    "    #Notice the magic end=\" \" in the print function arguement\n",
    "    #keeps from creating a new line\n",
    "    \n",
    "    old_a=a\n",
    "    a=b\n",
    "    b = old_a + b\n",
    "    \n",
    "print()"
   ]
  },
  {
   "cell_type": "code",
   "execution_count": 8,
   "metadata": {},
   "outputs": [
    {
     "name": "stdout",
     "output_type": "stream",
     "text": [
      "0 1 1 2 3 5 8 13 21 34 55 89 144 233 377 610 987 1597 2584 4181 \n"
     ]
    }
   ],
   "source": [
    "#simplified and faster method for Fibonacci sequence\n",
    "\n",
    "\n",
    "a=0\n",
    "b=1\n",
    "count = 0\n",
    "max_count = 10\n",
    "\n",
    "while count < max_count:\n",
    "    count = count + 1\n",
    "    print(a, b, end= \" \") \n",
    "    #Notice the magic end=\" \" in the print function arguement\n",
    "    \n",
    "    a = a + b\n",
    "    b = a + b # the new value of a plus b\n",
    "    \n",
    "print()"
   ]
  },
  {
   "cell_type": "code",
   "execution_count": 9,
   "metadata": {},
   "outputs": [
    {
     "name": "stdout",
     "output_type": "stream",
     "text": [
      "0 1 1 2 3 5 8 13 21 34 55 89 144 233 377 610 987 1597 2584 4181 \n"
     ]
    }
   ],
   "source": [
    "#third method for Fibonacci sequence\n",
    "\n",
    "a=0\n",
    "b=1\n",
    "count=0\n",
    "maxcount=20\n",
    "\n",
    "#once loop is started we stay in it\n",
    "\n",
    "while count < maxcount:\n",
    "    count += 1\n",
    "    # new count = old count + 1\n",
    "    olda =a    #olda is initially the old value a\n",
    "    a = a + b  #then updated with new value of a\n",
    "    b= olda #b becomes olda and updates the sequence\n",
    "    print(olda, end= \" \")\n",
    "\n",
    "print()"
   ]
  },
  {
   "cell_type": "code",
   "execution_count": 10,
   "metadata": {},
   "outputs": [
    {
     "name": "stdout",
     "output_type": "stream",
     "text": [
      "password:yu\n",
      "password:76\n",
      "password:password??\n",
      "password:unicorn\n",
      "Come on in!\n"
     ]
    }
   ],
   "source": [
    "#Wait until password is entered. Use control-C to breakout without the password\n",
    "#the password\n",
    "\n",
    "#Note that this must not be the password so that\n",
    "#while loop runs at least once\n",
    "\n",
    "password = str() #means password type is a string\n",
    "\n",
    "#note that != means not equal\n",
    "while password !=\"unicorn\":\n",
    "    password =input(\"password:\")\n",
    "    \n",
    "print(\"Come on in!\")"
   ]
  },
  {
   "cell_type": "code",
   "execution_count": 18,
   "metadata": {},
   "outputs": [
    {
     "name": "stdout",
     "output_type": "stream",
     "text": [
      "Please input Login name and Password\n",
      "what is your Login Name:f\n",
      "What is your Password:g\n",
      "To lock your computer type 'lock' \n",
      " what is your command?:lock\n",
      " what is your username: f\n",
      "what is your password: g\n",
      "welcome back to your system!\n"
     ]
    }
   ],
   "source": [
    "#Login_name\n",
    "#password\n",
    "\n",
    "print(\"Please input Login name and Password\")\n",
    "Login_name = input(\"what is your Login Name:\")\n",
    "password = input (\"What is your Password:\")\n",
    "\n",
    "print(\"To lock your computer type 'lock' \")\n",
    "\n",
    "command = None\n",
    "input1 = None\n",
    "input2 = None\n",
    "\n",
    "while command != \"lock\":\n",
    "    command = input(\" what is your command?:\")\n",
    "while input1 != Login_name:\n",
    "    input1 = input (\" what is your username: \")\n",
    "while input2 !=password:\n",
    "    input2 = input(\"what is your password: \")\n",
    "    \n",
    "print(\"welcome back to your system!\")\n",
    " "
   ]
  },
  {
   "cell_type": "code",
   "execution_count": null,
   "metadata": {},
   "outputs": [
    {
     "name": "stdout",
     "output_type": "stream",
     "text": [
      "Set name:d\n",
      "Set password: f\n",
      "name?d\n",
      "password?f\n",
      "Wlecome, d .Type lock to lock.\n",
      "lock\n",
      "name?d\n",
      "password?f\n",
      "Wlecome, d .Type lock to lock.\n"
     ]
    }
   ],
   "source": [
    "#Another way of doing this\n",
    "\n",
    "name = input ('Set name:')\n",
    "password = input ('Set password: ')\n",
    "while 1 == 1:\n",
    "    nameguess=\"\"\n",
    "    passwordguess=''\n",
    "    key=''\n",
    "    while (nameguess !=name) or (passwordguess !=password):\n",
    "        nameguess = input('name?')\n",
    "        passwordguess = input ('password?')\n",
    "        print(\"Wlecome,\",name, \".Type lock to lock.\")\n",
    "        while key != \"lock\":\n",
    "            key = input(\"\")"
   ]
  },
  {
   "cell_type": "code",
   "execution_count": 2,
   "metadata": {},
   "outputs": [
    {
     "name": "stdout",
     "output_type": "stream",
     "text": [
      "1\n",
      "2\n",
      "3\n",
      "4\n",
      "5\n",
      "6\n",
      "7\n",
      "8\n",
      "9\n",
      "10\n",
      "Done!\n"
     ]
    }
   ],
   "source": [
    "#While loops\n",
    "\n",
    "a = 0\n",
    "while a < 10:\n",
    "    a= a + 1\n",
    "    print(a)\n",
    "    \n",
    "print ('Done!')"
   ]
  },
  {
   "cell_type": "code",
   "execution_count": 3,
   "metadata": {},
   "outputs": [
    {
     "name": "stdout",
     "output_type": "stream",
     "text": [
      "Enter Numbers to add to the sum.\n",
      "Enter 0 to quit\n",
      "Current Sum:  0\n",
      "Number?8\n",
      "Current Sum:  8.0\n",
      "Number?4\n",
      "Current Sum:  12.0\n",
      "Number?123\n",
      "Current Sum:  135.0\n",
      "Number?0\n",
      "total sum 135.0\n"
     ]
    }
   ],
   "source": [
    "a = 1\n",
    "s = 0\n",
    "\n",
    "print('Enter Numbers to add to the sum.')\n",
    "print('Enter 0 to quit')\n",
    "\n",
    "while a != 0:\n",
    "    print('Current Sum: ',s)\n",
    "    a = float( input('Number?'))\n",
    "    s += a\n",
    "    \n",
    "print('total sum', s)\n",
    "\n"
   ]
  },
  {
   "cell_type": "code",
   "execution_count": null,
   "metadata": {},
   "outputs": [],
   "source": [
    "#Fibonacci sequence\n",
    "\n",
    "a = 0\n",
    "b = 1\n",
    "count = 0\n",
    "max_count = 20\n",
    "\n",
    "while count< max_count:\n",
    "    count += 1\n",
    "    print(a, end=\"\")\n",
    "    \n",
    "    old_a = a\n",
    "    a = b\n",
    "    b = old_a + b\n",
    "    \n",
    "print()"
   ]
  },
  {
   "cell_type": "code",
   "execution_count": 1,
   "metadata": {},
   "outputs": [
    {
     "name": "stdout",
     "output_type": "stream",
     "text": [
      "....\n"
     ]
    }
   ],
   "source": [
    "number = 5 \n",
    "\n",
    "while number > 1:\n",
    "    print('.', end =\"\")\n",
    "    number = number -1\n",
    "print()"
   ]
  },
  {
   "cell_type": "code",
   "execution_count": 3,
   "metadata": {},
   "outputs": [
    {
     "name": "stdout",
     "output_type": "stream",
     "text": [
      "1\n",
      "2\n",
      "3\n",
      "4\n",
      "5\n",
      "6\n",
      "7\n",
      "8\n",
      "9\n",
      "10\n",
      "done!\n"
     ]
    }
   ],
   "source": [
    "a = 0\n",
    "while a< 10:\n",
    "    a += 1\n",
    "    print(a)\n",
    "print('done!')"
   ]
  },
  {
   "cell_type": "code",
   "execution_count": 5,
   "metadata": {},
   "outputs": [
    {
     "name": "stdout",
     "output_type": "stream",
     "text": [
      "Enter Numbers to add to the sum.\n",
      "Enter 0 to quit.\n",
      "Current Sum: 0\n",
      "Number?  7\n",
      "Current Sum: 7.0\n",
      "Number?  9\n",
      "Current Sum: 16.0\n",
      "Number?  0\n",
      "Total Sum = 16.0\n"
     ]
    }
   ],
   "source": [
    "a = 1\n",
    "totalsum = 0\n",
    "\n",
    "print('Enter Numbers to add to the sum.')\n",
    "print('Enter 0 to quit.')\n",
    "\n",
    "while a != 0:\n",
    "    print('Current Sum:', totalsum)\n",
    "    a = float(input('Number?  '))\n",
    "    totalsum += a\n",
    "    \n",
    "print('Total Sum =', totalsum)"
   ]
  },
  {
   "cell_type": "code",
   "execution_count": 6,
   "metadata": {},
   "outputs": [
    {
     "name": "stdout",
     "output_type": "stream",
     "text": [
      "Enter Numbers to add to the sum.\n",
      "Enter 0 to quit.\n",
      "Current Sum: 0\n",
      "Number?  7\n",
      "Current Sum: 7.0\n",
      "Number?  8\n",
      "Current Sum: 15.0\n",
      "Number?  yu\n",
      "Please input numerical value\n"
     ]
    }
   ],
   "source": [
    "a = 1\n",
    "totalsum = 0\n",
    "\n",
    "print('Enter Numbers to add to the sum.')\n",
    "print('Enter 0 to quit.')\n",
    "\n",
    "try:\n",
    "    while a != 0:\n",
    "        print('Current Sum:', totalsum)\n",
    "        a = float(input('Number?  '))\n",
    "        totalsum += a\n",
    "    Print('Total Sum = ', totalsum )\n",
    "    \n",
    "except:\n",
    "    print('Please input numerical value')"
   ]
  },
  {
   "cell_type": "code",
   "execution_count": 1,
   "metadata": {},
   "outputs": [
    {
     "name": "stdout",
     "output_type": "stream",
     "text": [
      "0  1  1  2  3  5  8  13  21  34  55  89  144  233  377  610  987  1597  2584  4181  \n"
     ]
    }
   ],
   "source": [
    "#Fibonacci sequence\n",
    "\n",
    "a = 0\n",
    "b = 1\n",
    "count = 0\n",
    "max_count = 20\n",
    "\n",
    "#while loop\n",
    "\n",
    "while count < max_count:\n",
    "    count += 1\n",
    "    print(a, end= \"  \")\n",
    "    \n",
    "    olda = a\n",
    "    a = b\n",
    "    b = olda + b\n",
    "    \n",
    "print()"
   ]
  },
  {
   "cell_type": "code",
   "execution_count": 3,
   "metadata": {},
   "outputs": [
    {
     "name": "stdout",
     "output_type": "stream",
     "text": [
      "0 1 1 2 3 5 8 13 21 34 55 89 144 233 377 610 987 1597 2584 4181 \n"
     ]
    }
   ],
   "source": [
    "#simplier method\n",
    "\n",
    "a = 0\n",
    "b = 1\n",
    "\n",
    "count = 0\n",
    "max_count = 10\n",
    "\n",
    "while count < max_count:\n",
    "    count = count + 1\n",
    "    print(a, b, end =\" \")\n",
    "    a = a + b\n",
    "    b = a + b #new b = new a + old b\n",
    "    \n",
    "print()"
   ]
  },
  {
   "cell_type": "code",
   "execution_count": 5,
   "metadata": {},
   "outputs": [
    {
     "name": "stdout",
     "output_type": "stream",
     "text": [
      "0 1 1 2 3 5 8 13 21 34 55 89 144 233 377 610 987 1597 2584 4181 \n"
     ]
    }
   ],
   "source": [
    "#simplest method\n",
    "\n",
    "a = 0\n",
    "b = 1\n",
    "\n",
    "count = 0\n",
    "max_count = 20\n",
    "\n",
    "while count < max_count:\n",
    "    count += 1\n",
    "    olda = a\n",
    "    a = a + b\n",
    "    b = olda\n",
    "    print(olda, end=\" \")\n",
    "    \n",
    "print()"
   ]
  },
  {
   "cell_type": "code",
   "execution_count": 8,
   "metadata": {},
   "outputs": [
    {
     "name": "stdout",
     "output_type": "stream",
     "text": [
      "Password :  u\n",
      "Password :  unicorn\n",
      "password is unicorn\n"
     ]
    }
   ],
   "source": [
    "#password is unicorn\n",
    "password = str()\n",
    "\n",
    "while password != 'unicorn':\n",
    "    password = input('Password :  ')\n",
    "    \n",
    "print('password is unicorn')"
   ]
  },
  {
   "cell_type": "code",
   "execution_count": 1,
   "metadata": {},
   "outputs": [
    {
     "name": "stdout",
     "output_type": "stream",
     "text": [
      "What is your Username:  daphnekyx\n",
      "What is your Password:  88\n",
      "To lock your computer type lock.\n",
      "What is your command: lock\n",
      "What is your username: l\n",
      "What is your username: s\n",
      "What is your username: daphnekyx\n",
      "What is your password: 88\n",
      "Welcome back to your system!\n"
     ]
    }
   ],
   "source": [
    "name = input('What is your Username:  ')\n",
    "password = input ('What is your Password:  ')\n",
    "\n",
    "print('To lock your computer type lock.')\n",
    "\n",
    "command = None\n",
    "input1 = None\n",
    "input2 = None\n",
    "\n",
    "while command != 'lock':\n",
    "    command = input('What is your command: ')\n",
    "while input1 != name :\n",
    "    input1 = input('What is your username: ')\n",
    "while input2 != password:\n",
    "    input2 = input('What is your password: ')\n",
    "\n",
    "print('Welcome back to your system!')"
   ]
  },
  {
   "cell_type": "code",
   "execution_count": null,
   "metadata": {},
   "outputs": [],
   "source": []
  }
 ],
 "metadata": {
  "kernelspec": {
   "display_name": "Python 3",
   "language": "python",
   "name": "python3"
  },
  "language_info": {
   "codemirror_mode": {
    "name": "ipython",
    "version": 3
   },
   "file_extension": ".py",
   "mimetype": "text/x-python",
   "name": "python",
   "nbconvert_exporter": "python",
   "pygments_lexer": "ipython3",
   "version": "3.7.6"
  }
 },
 "nbformat": 4,
 "nbformat_minor": 4
}
