{
 "cells": [
  {
   "cell_type": "code",
   "execution_count": 1,
   "metadata": {},
   "outputs": [
    {
     "name": "stdout",
     "output_type": "stream",
     "text": [
      "Halt!\n",
      "who goes there?jason\n",
      "you may pass, jason\n"
     ]
    }
   ],
   "source": [
    "print('Halt!')\n",
    "user_input = input(\"who goes there?\")\n",
    "print(\"you may pass,\", user_input)\n",
    "\n",
    "#the have to enter the user_input(python shell) \n",
    "#then it will run\n"
   ]
  },
  {
   "cell_type": "code",
   "execution_count": 1,
   "metadata": {},
   "outputs": [
    {
     "name": "stdout",
     "output_type": "stream",
     "text": [
      "555.4\n"
     ]
    }
   ],
   "source": [
    "a = 123.4 \n",
    "#assign value to a, a variable\n",
    "\n",
    "b23 = 'spam' ,\n",
    "#assign string to b23, a variable\n",
    "\n",
    "first_name = \" bill\" \n",
    "#assign string to first_name, a variable\n",
    "\n",
    "b = 432 \n",
    "#assign value to b\n",
    "c = a + b \n",
    "#equation of c\n",
    "print(c)"
   ]
  },
  {
   "cell_type": "code",
   "execution_count": 4,
   "metadata": {},
   "outputs": [
    {
     "name": "stdout",
     "output_type": "stream",
     "text": [
      "a + b is 555.4\n",
      "first name is  bill\n",
      "Sorted Parts, After Midnight or spam\n"
     ]
    }
   ],
   "source": [
    "print(\"a + b is\", c) #string and c\n",
    "print(\"first name is\", first_name) #string and first_name\n",
    "print(\"Sorted Parts, After Midnight or\", b23)"
   ]
  },
  {
   "cell_type": "code",
   "execution_count": 6,
   "metadata": {},
   "outputs": [
    {
     "ename": "NameError",
     "evalue": "name 'value1' is not defined",
     "output_type": "error",
     "traceback": [
      "\u001b[1;31m---------------------------------------------------------------------------\u001b[0m",
      "\u001b[1;31mNameError\u001b[0m                                 Traceback (most recent call last)",
      "\u001b[1;32m<ipython-input-6-b52dc47641ba>\u001b[0m in \u001b[0;36m<module>\u001b[1;34m\u001b[0m\n\u001b[1;32m----> 1\u001b[1;33m \u001b[0mvalue1\u001b[0m \u001b[1;33m==\u001b[0m \u001b[0mPim\u001b[0m\u001b[1;33m\u001b[0m\u001b[1;33m\u001b[0m\u001b[0m\n\u001b[0m\u001b[0;32m      2\u001b[0m \u001b[0mValue2\u001b[0m \u001b[1;33m==\u001b[0m \u001b[1;34m\"Pim\"\u001b[0m \u001b[1;31m#this is a string\u001b[0m\u001b[1;33m\u001b[0m\u001b[1;33m\u001b[0m\u001b[0m\n",
      "\u001b[1;31mNameError\u001b[0m: name 'value1' is not defined"
     ]
    }
   ],
   "source": [
    "value1 == Pim\n",
    "Value2 == \"Pim\" #this is a string\n"
   ]
  },
  {
   "cell_type": "code",
   "execution_count": 3,
   "metadata": {},
   "outputs": [
    {
     "name": "stdout",
     "output_type": "stream",
     "text": [
      "1\n",
      "2\n",
      "4\n"
     ]
    }
   ],
   "source": [
    "a = 1\n",
    "print(a)\n",
    "a = a + 1\n",
    "print(a)\n",
    "a = a * 2\n",
    "print(a)\n",
    "\n",
    "#the value of a will be overide by the next command"
   ]
  },
  {
   "cell_type": "code",
   "execution_count": 1,
   "metadata": {},
   "outputs": [
    {
     "name": "stdout",
     "output_type": "stream",
     "text": [
      "Type in a number:4.56\n",
      "Type in an integer:-90\n",
      "type in a string: beaautiful\n",
      "number =: 4.56\n",
      "number is a <class 'float'>\n",
      "number * 2 9.12\n",
      "integer=: -90\n",
      "interger is a <class 'int'>\n",
      "integer * 2 = -180\n",
      "text = beaautiful\n",
      "text is a <class 'str'>\n",
      "text * 2 = beaautifulbeaautiful\n"
     ]
    }
   ],
   "source": [
    "number = float(input(\"Type in a number:\"))\n",
    "integer = int(input(\"Type in an integer:\"))\n",
    "text = input( \"type in a string: \")\n",
    "\n",
    "#function float returns a number from a string\n",
    "#function int returns an integer which has no decimal\n",
    "#function input returns a string\n",
    "\n",
    "print(\"number =:\", number)\n",
    "print(\"number is a\", type(number))\n",
    "print(\"number * 2\", number * 2)\n",
    "print(\"integer=:\", integer)\n",
    "print(\"interger is a\", type(integer))\n",
    "print(\"integer * 2 =\", integer * 2)\n",
    "print(\"text =\", text)\n",
    "print(\"text is a\", type(text))\n",
    "print(\"text * 2 =\", text*2)"
   ]
  },
  {
   "cell_type": "code",
   "execution_count": 2,
   "metadata": {},
   "outputs": [
    {
     "name": "stdout",
     "output_type": "stream",
     "text": [
      "Thisisjoined.\n",
      "Ha,Ha,Ha,Ha,Ha,\n"
     ]
    }
   ],
   "source": [
    "#Concatenation (+)\n",
    "print(\"This\" + \"is\" + \"joined.\")\n",
    "\n",
    "#Repeition (*)\n",
    "print(\"Ha,\" * 5)"
   ]
  },
  {
   "cell_type": "code",
   "execution_count": 3,
   "metadata": {},
   "outputs": [
    {
     "name": "stdout",
     "output_type": "stream",
     "text": [
      "Ha,Ha,Ha,Ha,Ha,Ha!\n"
     ]
    }
   ],
   "source": [
    "print(\"Ha,\"*5 + \"Ha!\")"
   ]
  },
  {
   "cell_type": "code",
   "execution_count": 4,
   "metadata": {},
   "outputs": [
    {
     "name": "stdout",
     "output_type": "stream",
     "text": [
      "2\n"
     ]
    }
   ],
   "source": [
    "print(3-1)\n"
   ]
  },
  {
   "cell_type": "code",
   "execution_count": 5,
   "metadata": {},
   "outputs": [
    {
     "ename": "TypeError",
     "evalue": "unsupported operand type(s) for -: 'str' and 'str'",
     "output_type": "error",
     "traceback": [
      "\u001b[1;31m---------------------------------------------------------------------------\u001b[0m",
      "\u001b[1;31mTypeError\u001b[0m                                 Traceback (most recent call last)",
      "\u001b[1;32m<ipython-input-5-35dc6a139b17>\u001b[0m in \u001b[0;36m<module>\u001b[1;34m\u001b[0m\n\u001b[1;32m----> 1\u001b[1;33m \u001b[0mprint\u001b[0m\u001b[1;33m(\u001b[0m\u001b[1;34m\"3\"\u001b[0m\u001b[1;33m-\u001b[0m\u001b[1;34m\"1\"\u001b[0m\u001b[1;33m)\u001b[0m\u001b[1;33m\u001b[0m\u001b[1;33m\u001b[0m\u001b[0m\n\u001b[0m",
      "\u001b[1;31mTypeError\u001b[0m: unsupported operand type(s) for -: 'str' and 'str'"
     ]
    }
   ],
   "source": [
    "print(\"3\"-\"1\")\n",
    "\n",
    "#cannot calculate as this is a string"
   ]
  },
  {
   "cell_type": "code",
   "execution_count": 6,
   "metadata": {},
   "outputs": [
    {
     "name": "stdout",
     "output_type": "stream",
     "text": [
      "input a rate and a distance\n",
      "Rate:7\n",
      "Distance:56\n",
      "Time: 8.0\n"
     ]
    }
   ],
   "source": [
    "#This program calculates rate and distance problems\n",
    "\n",
    "print(\"input a rate and a distance\")\n",
    "rate = float(input(\"Rate:\"))\n",
    "distance = float(input(\"Distance:\"))\n",
    "print(\"Time:\", (distance/rate))\n"
   ]
  },
  {
   "cell_type": "code",
   "execution_count": 8,
   "metadata": {},
   "outputs": [
    {
     "name": "stdout",
     "output_type": "stream",
     "text": [
      "Calculate information about a rectangle\n",
      "length:7\n",
      "width:3\n",
      "area= 21.0\n",
      "perimeter= 20.0\n"
     ]
    }
   ],
   "source": [
    "#This program calculated the perimeter and area of a rectangle\n",
    "\n",
    "print(\"Calculate information about a rectangle\")\n",
    "length = float(input(\"length:\"))\n",
    "width = float(input(\"width:\"))\n",
    "                    \n",
    "area = length*width\n",
    "print(\"area=\", area)\n",
    "                    \n",
    "perimeter = (length + width)* 2\n",
    "print(\"perimeter=\", perimeter)"
   ]
  },
  {
   "cell_type": "code",
   "execution_count": 1,
   "metadata": {},
   "outputs": [
    {
     "name": "stdout",
     "output_type": "stream",
     "text": [
      "Converts Fahrenheit to Celsius\n",
      "Fahrenheit temperature: 20\n",
      "Celsius temperature = -6.666666666666667\n"
     ]
    }
   ],
   "source": [
    "#This program converts Fahrenheit to Celsius\n",
    "\n",
    "print(\"Converts Fahrenheit to Celsius\")\n",
    "fahr_temp= float(input(\"Fahrenheit temperature: \"))\n",
    "Celsius_temperature = (fahr_temp - 32.0)*5.0/9.0\n",
    "\n",
    "print(\"Celsius temperature =\", Celsius_temperature)"
   ]
  },
  {
   "cell_type": "code",
   "execution_count": 3,
   "metadata": {},
   "outputs": [
    {
     "name": "stdout",
     "output_type": "stream",
     "text": [
      "Input 2 string variables and 2 number variables\n",
      "string1:hello\n",
      "string2:sunshine\n",
      "variable1:56\n",
      "variable2:12\n",
      "hello sunshine 56.0 12.0\n",
      "hellosunshine\n",
      "672.0\n"
     ]
    }
   ],
   "source": [
    "print(\"Input 2 string variables and 2 number variables\")\n",
    "\n",
    "string1 = input(\"string1:\")\n",
    "string2 = input(\"string2:\")\n",
    "\n",
    "variable1 = float(input(\"variable1:\"))\n",
    "variable2 = float(input(\"variable2:\"))\n",
    "\n",
    "print(string1,string2,variable1,variable2)\n",
    "\n",
    "print(string1 + string2)\n",
    "print(variable1*variable2)\n"
   ]
  },
  {
   "cell_type": "code",
   "execution_count": 1,
   "metadata": {},
   "outputs": [
    {
     "name": "stdout",
     "output_type": "stream",
     "text": [
      "Halt!\n",
      "who goest there?jas\n",
      "you may pass jas\n"
     ]
    }
   ],
   "source": [
    "print('Halt!')\n",
    "user_input = input('who goest there?')\n",
    "print('you may pass', user_input)"
   ]
  },
  {
   "cell_type": "code",
   "execution_count": 3,
   "metadata": {},
   "outputs": [
    {
     "name": "stdout",
     "output_type": "stream",
     "text": [
      "a + b 546.4\n",
      "first nam is Bill\n",
      "sorted parts, after midnight spam\n"
     ]
    }
   ],
   "source": [
    "a = 123.4\n",
    "b23 = 'spam'\n",
    "first_name = 'Bill'\n",
    "b = 423\n",
    "c = a + b\n",
    "\n",
    "print('a + b', c)\n",
    "print('first nam is', first_name)\n",
    "print('sorted parts, after midnight', b23)"
   ]
  },
  {
   "cell_type": "code",
   "execution_count": 4,
   "metadata": {},
   "outputs": [
    {
     "name": "stdout",
     "output_type": "stream",
     "text": [
      "1\n",
      "2\n",
      "4\n"
     ]
    }
   ],
   "source": [
    "a = 1 \n",
    "print(a)\n",
    "a= a + 1\n",
    "print(a)\n",
    "a = a*2\n",
    "print(a)"
   ]
  },
  {
   "cell_type": "code",
   "execution_count": 7,
   "metadata": {},
   "outputs": [
    {
     "name": "stdout",
     "output_type": "stream",
     "text": [
      "type in a number: 1.234\n",
      "type in an integer: -4\n",
      "type in a string: beautiful\n",
      "number =  1.234\n",
      "number is a  <class 'float'>\n",
      "number * 2  2.468\n",
      "\n",
      "integer =  -4\n",
      "integer is a <class 'int'>\n",
      "integer * 2  -8\n",
      "\n",
      "text =  beautiful\n",
      "text is a  <class 'str'>\n",
      "text * 2=  beautifulbeautiful\n"
     ]
    }
   ],
   "source": [
    "number = float(input('type in a number: '))\n",
    "integer = int(input('type in an integer: '))\n",
    "text = input('type in a string: ')\n",
    "\n",
    "print('number = ', number)\n",
    "print('number is a ', type(number))\n",
    "print('number * 2 ', number * 2)\n",
    "print()\n",
    "print('integer = ', integer )\n",
    "print('integer is a', type(integer))\n",
    "print('integer * 2 ', integer*2)\n",
    "print()\n",
    "print('text = ', text)\n",
    "print(\"text is a \", type(text))\n",
    "print('text * 2= ', text*2)"
   ]
  },
  {
   "cell_type": "code",
   "execution_count": 8,
   "metadata": {},
   "outputs": [
    {
     "name": "stdout",
     "output_type": "stream",
     "text": [
      "thisisjoined\n",
      "HAHAHAHAHAHAHAHA\n"
     ]
    }
   ],
   "source": [
    "print('this' + 'is'+ 'joined') #concatenation\n",
    "print('HA'*8) #repetition"
   ]
  },
  {
   "cell_type": "code",
   "execution_count": 10,
   "metadata": {},
   "outputs": [
    {
     "name": "stdout",
     "output_type": "stream",
     "text": [
      "Input a rate and a distance\n",
      "Rate:   3\n",
      "Distance:   60\n",
      "Time:   20.0\n"
     ]
    }
   ],
   "source": [
    "#Rate_time\n",
    "\n",
    "print('Input a rate and a distance')\n",
    "\n",
    "rate = float(input('Rate:   '))\n",
    "distance = float ( input ('Distance:   '))\n",
    "                          \n",
    "print('Time:  ', distance/ rate)"
   ]
  },
  {
   "cell_type": "code",
   "execution_count": 15,
   "metadata": {},
   "outputs": [
    {
     "name": "stdout",
     "output_type": "stream",
     "text": [
      "Calculate information about a rectangle.\n",
      "length:  run\n",
      "Please insert numerical value?\n"
     ]
    }
   ],
   "source": [
    "print('Calculate information about a rectangle.')\n",
    "\n",
    "try:\n",
    "    length = float(input('length:  '))\n",
    "    width = float(input('width:  '))\n",
    "    print('Area:  ', length * width )\n",
    "    print('Perimeter:', 2 * length + 2* width)\n",
    "\n",
    "except:\n",
    "    print('Please insert numerical value?')\n",
    "    "
   ]
  },
  {
   "cell_type": "code",
   "execution_count": 17,
   "metadata": {},
   "outputs": [
    {
     "name": "stdout",
     "output_type": "stream",
     "text": [
      "This program converts Fahrenheit Temperatures\n",
      "Fahrenheit Temperature:  67\n",
      "Celsius temperature: 19.444444444444443\n"
     ]
    }
   ],
   "source": [
    "print('This program converts Fahrenheit Temperatures')\n",
    "\n",
    "fahr = float(input('Fahrenheit Temperature:  '))\n",
    "print('Celsius temperature:', (fahr -32.0 )* 5.0/9.0)\n"
   ]
  },
  {
   "cell_type": "code",
   "execution_count": 18,
   "metadata": {},
   "outputs": [
    {
     "name": "stdout",
     "output_type": "stream",
     "text": [
      "This program converts Fahrenheit Temperatures\n",
      "Fahrenheit Temperature:  yh\n",
      "Please insert numerical value?\n"
     ]
    }
   ],
   "source": [
    "print('This program converts Fahrenheit Temperatures')\n",
    "    \n",
    "try:\n",
    "    fahr = float(input('Fahrenheit Temperature:  '))\n",
    "    print('Celsius temperature:', (fahr -32.0 )* 5.0/9.0)\n",
    "    \n",
    "except:\n",
    "    print('Please insert numerical value?')"
   ]
  },
  {
   "cell_type": "code",
   "execution_count": 19,
   "metadata": {},
   "outputs": [
    {
     "name": "stdout",
     "output_type": "stream",
     "text": [
      "string1: gfdgs\n",
      " string2: uuuu\n",
      "Number 1: 4\n",
      "Number 1:8\n",
      "gfdgsuuuu\n",
      "32.0\n"
     ]
    }
   ],
   "source": [
    "\n",
    "string1 = input('string1: ')\n",
    "string2 = input(' string2: ')\n",
    "float1 = float(input('Number 1: '))\n",
    "float2 = float( input('Number 1:'))\n",
    "\n",
    "print(string1 + string2)\n",
    "print(float1 * float2)\n"
   ]
  },
  {
   "cell_type": "code",
   "execution_count": null,
   "metadata": {},
   "outputs": [],
   "source": [
    "try:\n",
    "    string1 = input('string1: ')\n",
    "    string2 = input('string2: ')\n",
    "    float1 = float(input('Number 1: '))\n",
    "    float2 = float( input('Number 1:'))\n",
    "\n",
    "    print(string1 + string2)\n",
    "    print(float1 * float2)\n",
    "\n",
    "\n",
    "except:\n",
    "    \n",
    "    print('Please input the appropriate value(float):')"
   ]
  },
  {
   "cell_type": "code",
   "execution_count": 1,
   "metadata": {},
   "outputs": [
    {
     "name": "stdout",
     "output_type": "stream",
     "text": [
      "string1: yu\n",
      "string2: no\n",
      "Number 1: 7\n",
      "Number 1:no\n",
      "Please input the appropriate value(float):\n"
     ]
    }
   ],
   "source": [
    "try:\n",
    "    string1 = input('string1: ')\n",
    "    string2 = input('string2: ')\n",
    "    float1 = float(input('Number 1: '))\n",
    "    float2 = float( input('Number 1:'))\n",
    "\n",
    "    print(string1 + string2)\n",
    "    print(float1 * float2)\n",
    "\n",
    "\n",
    "except:\n",
    "    \n",
    "    print('Please input the appropriate value(float):')"
   ]
  },
  {
   "cell_type": "code",
   "execution_count": null,
   "metadata": {},
   "outputs": [],
   "source": []
  }
 ],
 "metadata": {
  "kernelspec": {
   "display_name": "Python 3",
   "language": "python",
   "name": "python3"
  },
  "language_info": {
   "codemirror_mode": {
    "name": "ipython",
    "version": 3
   },
   "file_extension": ".py",
   "mimetype": "text/x-python",
   "name": "python",
   "nbconvert_exporter": "python",
   "pygments_lexer": "ipython3",
   "version": "3.7.6"
  }
 },
 "nbformat": 4,
 "nbformat_minor": 4
}
