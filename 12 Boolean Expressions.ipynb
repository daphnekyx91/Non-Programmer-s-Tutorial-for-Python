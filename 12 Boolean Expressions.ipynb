{
 "cells": [
  {
   "cell_type": "code",
   "execution_count": 6,
   "metadata": {},
   "outputs": [
    {
     "name": "stdout",
     "output_type": "stream",
     "text": [
      "a == 6 True\n",
      "a == 7  False\n",
      "a == 6 and b == 7 True\n",
      "a == 7 and b == 7 False\n",
      "not a == 7 and b == 7 True\n",
      " a == 7 or b == 7 True\n",
      " a == 7 or b == 6 False\n",
      "not (a == 7 and b == 6) True\n",
      "not a == 7 and b == 6 False\n"
     ]
    }
   ],
   "source": [
    "a = 6\n",
    "b = 7\n",
    "c = 42\n",
    "\n",
    "print(\"a == 6\", a == 6)\n",
    "print(\"a == 7 \", a == 7)\n",
    "print(\"a == 6 and b == 7\", a == 6 and b == 7)\n",
    "print(\"a == 7 and b == 7\", a == 7 and b == 7) \n",
    "print(\"not a == 7 and b == 7\", not a == 7 and b == 7)\n",
    "print(\" a == 7 or b == 7\",  a == 7 or b == 7)\n",
    "print(\" a == 7 or b == 6\",  a == 7 or b == 6)\n",
    "print(\"not (a == 7 and b == 6)\", not (a == 7 and b == 6))\n",
    "print(\"not a == 7 and b == 6\", not a == 7 and b == 6)"
   ]
  },
  {
   "cell_type": "code",
   "execution_count": null,
   "metadata": {},
   "outputs": [],
   "source": [
    "# and\n",
    "\n",
    "# true & true  => true\n",
    "# true & false => false\n",
    "# false $ true => false\n",
    "# false & false => false\n",
    "\n",
    "# not\n",
    "# not true => false\n",
    "# not false => true\n",
    "\n",
    "# or\n",
    "# true or true => true\n",
    "# true or false => true\n",
    "# false or true => true\n",
    "# false or false => false"
   ]
  },
  {
   "cell_type": "code",
   "execution_count": 5,
   "metadata": {},
   "outputs": [
    {
     "name": "stdout",
     "output_type": "stream",
     "text": [
      "['jack', 'jill', 'jill', 'life', 'life', 'the universe']\n"
     ]
    }
   ],
   "source": [
    "list = [ \"life\", \"the universe\", \"everthing\", \"jack\", \"jill\", \"life\", \"jill\"]\n",
    "\n",
    "# make a copy of the list. See the More on Lists chapter to explain what [:] means.\n",
    "\n",
    "copy = list[:]\n",
    "#sort the copy\n",
    "copy.sort()\n",
    "prev = copy[0]\n",
    "del copy[0] #delete the first element after it is sorted\n",
    "\n",
    "print(copy)"
   ]
  },
  {
   "cell_type": "code",
   "execution_count": 6,
   "metadata": {},
   "outputs": [
    {
     "name": "stdout",
     "output_type": "stream",
     "text": [
      "First Match:  jill\n"
     ]
    }
   ],
   "source": [
    "list = [ \"life\", \"the universe\", \"everthing\", \"jack\", \"jill\", \"life\", \"jill\"]\n",
    "\n",
    "# make a copy of the list. See the More on Lists chapter to explain what [:] means.\n",
    "\n",
    "copy = list[:]\n",
    "#sort the copy\n",
    "copy.sort()\n",
    "prev = copy[0]\n",
    "del copy[0] #delete the first element after it is sorted\n",
    "\n",
    "count = 0\n",
    "\n",
    "#go through the list searching for a match\n",
    "while count < len(copy) and copy[count] != prev:\n",
    "    prev = copy[count]\n",
    "    count = count + 1\n",
    "    \n",
    "#if match is not found then count cant be < len\n",
    "#since the while loop continues while count is < len\n",
    "#no match is found\n",
    "\n",
    "if count < len(copy):\n",
    "    print(\"First Match: \", prev)"
   ]
  },
  {
   "cell_type": "code",
   "execution_count": 8,
   "metadata": {},
   "outputs": [
    {
     "name": "stdout",
     "output_type": "stream",
     "text": [
      "What is your name?  tim\n",
      "what is your password? d\n",
      "sorry, please try again.\n"
     ]
    }
   ],
   "source": [
    "#this program asks user for a name and password\n",
    "#then checks to make sure user allowed in\n",
    "\n",
    "name = input(\"What is your name?  \")\n",
    "password = input(\"what is your password? \")\n",
    "\n",
    "if name == \"tim\" and password == \"5566\":\n",
    "    print(\"welcome tim\")\n",
    "elif name == \"joe\" and password == \"7788\":\n",
    "    print(\"welcome joe\")\n",
    "else:\n",
    "    print(\"sorry, please try again.\")"
   ]
  },
  {
   "cell_type": "code",
   "execution_count": 12,
   "metadata": {},
   "outputs": [
    {
     "name": "stdout",
     "output_type": "stream",
     "text": [
      "Try to guess my name!\n",
      "what is my name?         jane\n",
      "you are wrong\n",
      "what is my name?        tim\n",
      "Yes ! My name is  tim!\n"
     ]
    }
   ],
   "source": [
    "print(\"Try to guess my name!\")\n",
    "count = 1\n",
    "name = \"tim\"\n",
    "\n",
    "guess = input(\"what is my name?         \")\n",
    "\n",
    "while count < 3 and guess.lower() != name:\n",
    "    print(\"you are wrong\")\n",
    "    count = count + 1\n",
    "    guess = input(\"what is my name?        \")\n",
    "    \n",
    "if guess.lower() != name:\n",
    "    print(\"you are wrong\")\n",
    "    print(\"you ran out of chances.\")\n",
    "else:\n",
    "    print(\"Yes ! My name is \", name + \"!\")"
   ]
  },
  {
   "cell_type": "code",
   "execution_count": null,
   "metadata": {},
   "outputs": [],
   "source": []
  }
 ],
 "metadata": {
  "kernelspec": {
   "display_name": "Python 3",
   "language": "python",
   "name": "python3"
  },
  "language_info": {
   "codemirror_mode": {
    "name": "ipython",
    "version": 3
   },
   "file_extension": ".py",
   "mimetype": "text/x-python",
   "name": "python",
   "nbconvert_exporter": "python",
   "pygments_lexer": "ipython3",
   "version": "3.7.6"
  }
 },
 "nbformat": 4,
 "nbformat_minor": 4
}
