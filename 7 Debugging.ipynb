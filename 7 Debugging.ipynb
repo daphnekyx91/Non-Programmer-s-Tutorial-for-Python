{
 "cells": [
  {
   "cell_type": "code",
   "execution_count": 3,
   "metadata": {},
   "outputs": [
    {
     "name": "stdout",
     "output_type": "stream",
     "text": [
      "Height:   6\n",
      "Width:   2\n",
      "perimeter =  16\n"
     ]
    }
   ],
   "source": [
    "#look at source code\n",
    "#primary way is code walkthroughs\n",
    "\n",
    "#simple perimeter program\n",
    "height = int(input('Height:   '))\n",
    "wid = int(input('Width:   '))\n",
    "print('perimeter = ', 2*wid + 2*height)\n",
    "             "
   ]
  },
  {
   "cell_type": "code",
   "execution_count": 4,
   "metadata": {},
   "outputs": [
    {
     "name": "stdout",
     "output_type": "stream",
     "text": [
      ". . . . \n"
     ]
    }
   ],
   "source": [
    "number = 5\n",
    "\n",
    "while number > 1:\n",
    "    print( '.', end = \" \")\n",
    "    number -= 1\n",
    "\n",
    "print()"
   ]
  },
  {
   "cell_type": "code",
   "execution_count": null,
   "metadata": {},
   "outputs": [],
   "source": []
  }
 ],
 "metadata": {
  "kernelspec": {
   "display_name": "Python 3",
   "language": "python",
   "name": "python3"
  },
  "language_info": {
   "codemirror_mode": {
    "name": "ipython",
    "version": 3
   },
   "file_extension": ".py",
   "mimetype": "text/x-python",
   "name": "python",
   "nbconvert_exporter": "python",
   "pygments_lexer": "ipython3",
   "version": "3.7.6"
  }
 },
 "nbformat": 4,
 "nbformat_minor": 4
}
