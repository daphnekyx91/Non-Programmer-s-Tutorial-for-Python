{
 "cells": [
  {
   "cell_type": "code",
   "execution_count": 1,
   "metadata": {},
   "outputs": [
    {
     "name": "stdout",
     "output_type": "stream",
     "text": [
      "3 * 2 = 6\n"
     ]
    }
   ],
   "source": [
    "def mult (a,b):\n",
    "    if b == 0:\n",
    "        return 0\n",
    "    rest = mult(a, b-1)\n",
    "    value = a + rest\n",
    "    return value\n",
    "\n",
    "result = mult(3,2)\n",
    "print(\"3 * 2 =\", result)"
   ]
  },
  {
   "cell_type": "code",
   "execution_count": null,
   "metadata": {},
   "outputs": [],
   "source": [
    "#Recursion\n",
    "\n",
    "#programming constructs solving a problem by solving a smaller version"
   ]
  },
  {
   "cell_type": "code",
   "execution_count": 2,
   "metadata": {},
   "outputs": [
    {
     "name": "stdout",
     "output_type": "stream",
     "text": [
      "2! = 2\n",
      "3! = 6\n",
      "4! = 24\n",
      "5! = 120\n"
     ]
    }
   ],
   "source": [
    "def factorial(n):\n",
    "    if n <= 1:\n",
    "        return 1\n",
    "    return n* factorial(n - 1)\n",
    "\n",
    "print('2! =', factorial(2))\n",
    "print('3! =', factorial(3))\n",
    "print('4! =', factorial(4))\n",
    "print('5! =', factorial(5))\n"
   ]
  },
  {
   "cell_type": "code",
   "execution_count": 3,
   "metadata": {},
   "outputs": [
    {
     "name": "stdout",
     "output_type": "stream",
     "text": [
      "5\n",
      "4\n",
      "3\n",
      "2\n",
      "1\n",
      "0\n"
     ]
    }
   ],
   "source": [
    "def count_down(n):\n",
    "    print(n)\n",
    "    if n> 0:\n",
    "        return count_down(n-1)\n",
    "    \n",
    "count_down(5)"
   ]
  },
  {
   "cell_type": "code",
   "execution_count": null,
   "metadata": {},
   "outputs": [],
   "source": []
  }
 ],
 "metadata": {
  "kernelspec": {
   "display_name": "Python 3",
   "language": "python",
   "name": "python3"
  },
  "language_info": {
   "codemirror_mode": {
    "name": "ipython",
    "version": 3
   },
   "file_extension": ".py",
   "mimetype": "text/x-python",
   "name": "python",
   "nbconvert_exporter": "python",
   "pygments_lexer": "ipython3",
   "version": "3.7.6"
  }
 },
 "nbformat": 4,
 "nbformat_minor": 4
}
