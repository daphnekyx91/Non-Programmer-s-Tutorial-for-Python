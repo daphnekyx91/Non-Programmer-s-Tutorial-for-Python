{
 "cells": [
  {
   "cell_type": "code",
   "execution_count": 1,
   "metadata": {},
   "outputs": [
    {
     "name": "stdout",
     "output_type": "stream",
     "text": [
      "Number?-6\n",
      "The absolute value of -6 is 6\n"
     ]
    }
   ],
   "source": [
    "n = int(input('Number?'))\n",
    "\n",
    "if n < 0:\n",
    "    print('The absolute value of', n , \"is\", -n)\n",
    "else:\n",
    "    print(\"The absolute value of\", n, 'is' , n)\n",
    "    "
   ]
  },
  {
   "cell_type": "code",
   "execution_count": 2,
   "metadata": {},
   "outputs": [
    {
     "name": "stdout",
     "output_type": "stream",
     "text": [
      "Number?3\n",
      "The absolute value of 3 is 3\n"
     ]
    }
   ],
   "source": [
    "n = int(input('Number?'))\n",
    "\n",
    "if n < 0:\n",
    "    print('The absolute value of', n , \"is\", -n)\n",
    "else:\n",
    "    print(\"The absolute value of\", n, 'is' , n)\n",
    "    \n",
    "#prompt user for number with [input]\n",
    "#check if fulfill conditon in [if]\n",
    "#go to next condition in [else]"
   ]
  },
  {
   "cell_type": "code",
   "execution_count": null,
   "metadata": {},
   "outputs": [],
   "source": [
    "#Operator and its function\n",
    "\n",
    "< less than\n",
    "<= less than or equal to\n",
    "> greater than\n",
    ">= greater than or equal to\n",
    "== comparative equal\n",
    "!= not equal"
   ]
  },
  {
   "cell_type": "code",
   "execution_count": 8,
   "metadata": {},
   "outputs": [
    {
     "name": "stdout",
     "output_type": "stream",
     "text": [
      "1 <= 3\n",
      "2 <= 3\n",
      "3 <= 3\n",
      "Neither test was true\n",
      "Neither test was true\n",
      "6 > 5\n",
      "Neither test was true\n",
      "7 > 5\n",
      "Neither test was true\n",
      "8 > 5\n",
      "Neither test was true\n",
      "9 > 5\n",
      "Neither test was true\n",
      "10 > 5\n",
      "Neither test was true\n"
     ]
    }
   ],
   "source": [
    "#if , elif, else statements\n",
    "\n",
    "a = 0\n",
    "\n",
    "while a < 10:\n",
    "    a += 1\n",
    "    if a> 5:\n",
    "        print(a, \">\", 5)\n",
    "    if a <= 3:\n",
    "        print(a, \"<=\", 3)\n",
    "    else:\n",
    "        print('Neither test was true')\n",
    "\n"
   ]
  },
  {
   "cell_type": "code",
   "execution_count": 10,
   "metadata": {},
   "outputs": [
    {
     "name": "stdout",
     "output_type": "stream",
     "text": [
      "False\n",
      "\n",
      "False\n"
     ]
    }
   ],
   "source": [
    "#Program Demonstrates use of == operator\n",
    "#using numbers\n",
    "print( 5 == 6)\n",
    "print()\n",
    "#using variables\n",
    "x = 5\n",
    "y = 8\n",
    "print( x == y)\n"
   ]
  },
  {
   "cell_type": "code",
   "execution_count": 12,
   "metadata": {},
   "outputs": [
    {
     "name": "stdout",
     "output_type": "stream",
     "text": [
      "Guess the number!\n",
      "is it??   5\n",
      "its bigger!\n",
      "is it??   1\n",
      "its bigger!\n",
      "is it??   9\n",
      "Its not so big.\n",
      "is it??   7\n",
      "Hooray! guessed it right!\n"
     ]
    }
   ],
   "source": [
    "#Plays the guessing gam higher or lower\n",
    "\n",
    "#semi random, last digits of the time \n",
    "#wait till a later chapter\n",
    "\n",
    "number = 7\n",
    "guess = -1\n",
    "\n",
    "print('Guess the number!')\n",
    "\n",
    "while guess != number:\n",
    "    guess = int(input('is it??   '))\n",
    "    \n",
    "    if guess == number:\n",
    "        print('Hooray! guessed it right!')\n",
    "    elif guess < number:\n",
    "        print('its bigger!')\n",
    "    elif guess > number:\n",
    "        print('Its not so big.')\n",
    "        \n",
    "        "
   ]
  },
  {
   "cell_type": "code",
   "execution_count": 18,
   "metadata": {},
   "outputs": [
    {
     "name": "stdout",
     "output_type": "stream",
     "text": [
      "Tell me a number:  9.765\n",
      "9.765 is very strange\n"
     ]
    }
   ],
   "source": [
    "#Asks for a number\n",
    "#prints if it is even or odd\n",
    "\n",
    "number = float(input('Tell me a number:  '))\n",
    "\n",
    "if number % 2 == 0:\n",
    "    print(int(number), 'is even')\n",
    "    \n",
    "elif number % 2 == 1:\n",
    "    print(int(number), 'is odd')\n",
    "    \n",
    "else:\n",
    "    print(number, \"is very strange\")"
   ]
  },
  {
   "cell_type": "code",
   "execution_count": 20,
   "metadata": {},
   "outputs": [
    {
     "name": "stdout",
     "output_type": "stream",
     "text": [
      "Enter 0 to exit the loop\n",
      "Enter a number:6\n",
      "Enter a number:3\n",
      "Enter a number:7\n",
      "Enter a number:0\n",
      "the avg was: 5.333333333333333\n"
     ]
    }
   ],
   "source": [
    "#Keep asking numbers until 0 is entered\n",
    "#print the average value\n",
    "\n",
    "count = 0\n",
    "sum = 0\n",
    "\n",
    "print('Enter 0 to exit the loop')\n",
    "\n",
    "while number!= 0:\n",
    "    number = float(input('Enter a number:'))\n",
    "    if number != 0:\n",
    "        count += 1\n",
    "        sum = sum + number\n",
    "    if number == 0:\n",
    "        print('the avg was:', sum/ count)\n",
    "        \n",
    "    "
   ]
  },
  {
   "cell_type": "code",
   "execution_count": 2,
   "metadata": {},
   "outputs": [
    {
     "name": "stdout",
     "output_type": "stream",
     "text": [
      "this program will take several numbers then average the out\n",
      "how many nos of avg?   3\n",
      "Number: 1\n",
      "Enter a number:4\n",
      "Number: 2\n",
      "Enter a number:3\n",
      "Number: 3\n",
      "Enter a number:2\n",
      "the average was:   3.0\n"
     ]
    }
   ],
   "source": [
    "#keeps asking for numbers until count numbers have been entered\n",
    "#prints the average value\n",
    "\n",
    "#use [int] to keep track of how many number\n",
    "#use[float] for number input \n",
    "\n",
    "sum = 0.0\n",
    "\n",
    "print(\"this program will take several numbers then average the out\")\n",
    "count = int(input(\"how many nos of avg?   \"))\n",
    "    \n",
    "current_count=0\n",
    "      \n",
    "while current_count < count:\n",
    "      current_count += 1\n",
    "      print('Number:', current_count)\n",
    "      number = float(input('Enter a number:'))\n",
    "      sum += number\n",
    "\n",
    "print('the average was:  ', sum/count)"
   ]
  },
  {
   "cell_type": "code",
   "execution_count": 4,
   "metadata": {},
   "outputs": [
    {
     "name": "stdout",
     "output_type": "stream",
     "text": [
      "Please provide your name?   Daphne\n",
      "thats a nice name!\n"
     ]
    }
   ],
   "source": [
    "name = input('Please provide your name?   ')\n",
    "\n",
    "my_name = 'Daphne '\n",
    "\n",
    "if name == \"John\":\n",
    "    print('have a good day')\n",
    "elif name == 'Tim':\n",
    "    print('have a good day')\n",
    "elif name == my_name:\n",
    "    print('thats a nice name!')\n",
    "else:\n",
    "    print('thats a nice name!')"
   ]
  },
  {
   "cell_type": "code",
   "execution_count": 6,
   "metadata": {},
   "outputs": [
    {
     "name": "stdout",
     "output_type": "stream",
     "text": [
      "guess the number!\n",
      "is it....4\n",
      " its bigger\n",
      "is it....0\n",
      " its bigger\n",
      "is it....8\n",
      " its smaller\n",
      "is it....7\n",
      "u r right\n",
      " that must have been complicated.\n"
     ]
    }
   ],
   "source": [
    "number = 7\n",
    "guess = -1 \n",
    "count = 0\n",
    "\n",
    "print('guess the number!')\n",
    "\n",
    "while guess != number:\n",
    "    guess = int(input('is it....'))\n",
    "    count += 1\n",
    "    if guess == number:\n",
    "        print('u r right')\n",
    "    elif guess < number:\n",
    "        print(' its bigger')\n",
    "    elif guess > number:\n",
    "        print(' its smaller')\n",
    "        \n",
    "if count > 3:\n",
    "    print (' that must have been complicated.')\n",
    "\n",
    "else:\n",
    "    print ('good job!')"
   ]
  },
  {
   "cell_type": "code",
   "execution_count": 12,
   "metadata": {},
   "outputs": [
    {
     "name": "stdout",
     "output_type": "stream",
     "text": [
      "please provide value of a   80\n",
      "\n",
      "please provide value of b   76\n",
      "\n",
      "sum is  156.0 that is a great number\n"
     ]
    }
   ],
   "source": [
    "#Program that asks for two numbers\n",
    "#if sum of number greater than 100, print\" that is a great number\n",
    "\n",
    "a = float(input('please provide value of a   '))\n",
    "print()\n",
    "b = float(input('please provide value of b   '))\n",
    "print()\n",
    "\n",
    "if a + b > 100:\n",
    "    print( \"sum is \", a+ b, 'that is a great number')\n",
    "else:\n",
    "    print( \"sum is \", a+ b, 'that is a small number')"
   ]
  },
  {
   "cell_type": "code",
   "execution_count": 1,
   "metadata": {},
   "outputs": [
    {
     "name": "stdout",
     "output_type": "stream",
     "text": [
      "Please enter Number? -9\n",
      "The absolute value of  -9 is 9\n"
     ]
    }
   ],
   "source": [
    "n = int(input('Please enter Number? '))\n",
    "\n",
    "if n < 0:                  \n",
    "    print('The absolute value of ', n, \"is\", -n)\n",
    "else:\n",
    "    print('The absolute value of', n, \"is\", n)\n",
    "    \n",
    "#assign condition for n\n",
    "# if => elif => else"
   ]
  },
  {
   "cell_type": "code",
   "execution_count": 3,
   "metadata": {},
   "outputs": [
    {
     "name": "stdout",
     "output_type": "stream",
     "text": [
      " a is less than or equals to 3\n",
      " a is less than or equals to 3\n",
      " a is less than or equals to 3\n",
      "Neither test was true.\n",
      "Neither test was true.\n",
      "a is more than 5\n",
      "a is more than 5\n",
      "a is more than 5\n",
      "a is more than 5\n",
      "a is more than 5\n"
     ]
    }
   ],
   "source": [
    "a = 0 \n",
    "\n",
    "#assign value to a\n",
    "\n",
    "while a < 10:\n",
    "    a += 1\n",
    "    if a > 5:\n",
    "        print('a is more than 5')\n",
    "    elif a <= 3:\n",
    "        print(' a is less than or equals to 3')\n",
    "    else:\n",
    "        print('Neither test was true.')\n",
    "        \n",
    "# if => elif => elif => elif\n",
    "# if => elif => elif => else"
   ]
  },
  {
   "cell_type": "code",
   "execution_count": 4,
   "metadata": {},
   "outputs": [
    {
     "name": "stdout",
     "output_type": "stream",
     "text": [
      "False\n",
      "False\n"
     ]
    }
   ],
   "source": [
    "print(5 == 6 ) #false\n",
    "\n",
    "y = 5\n",
    "x = 9\n",
    "print (x == y ) #false"
   ]
  },
  {
   "cell_type": "code",
   "execution_count": 7,
   "metadata": {},
   "outputs": [
    {
     "name": "stdout",
     "output_type": "stream",
     "text": [
      "Guess the number!   \n",
      "Is it .....:8\n",
      "It's not so big\n",
      "Is it .....:3\n",
      "It's not so small\n",
      "Is it .....:7\n",
      " yes, this is the number. correct!\n"
     ]
    }
   ],
   "source": [
    "#Play a guessing game and give clues whether higher or lower\n",
    "\n",
    "number = 7 #assign value to number\n",
    "guess = -1 #assign value to guess which will be rewrite through input\n",
    "\n",
    "print('Guess the number!   ')\n",
    "#this is the title of the program\n",
    "\n",
    "while guess != number:\n",
    "    guess = int(input('Is it .....:'))\n",
    "    \n",
    "    if guess == number:\n",
    "        print(' yes, this is the number. correct!')\n",
    "    elif guess > number:\n",
    "        print(\"It's not so big\")\n",
    "    elif guess < number:\n",
    "        print(\"It's not so small\")"
   ]
  },
  {
   "cell_type": "code",
   "execution_count": 9,
   "metadata": {},
   "outputs": [
    {
     "name": "stdout",
     "output_type": "stream",
     "text": [
      "Guess the number!   \n",
      "Is it .....:5\n",
      "It's not so small\n",
      "Is it .....:9\n",
      "It's not so big\n",
      "Is it .....:7\n",
      " yes, this is the number. correct!\n"
     ]
    }
   ],
   "source": [
    "#Play a guessing game and give clues whether higher or lower\n",
    "\n",
    "number = 7 #assign value to number\n",
    "guess = None \n",
    "\n",
    "#assign value to guess which will be rewrite through input\n",
    "#can assign None to guess too.\n",
    "#this is because guess value will be overwrite\n",
    "\n",
    "print('Guess the number!   ')\n",
    "#this is the title of the program\n",
    "\n",
    "while guess != number:\n",
    "    guess = int(input('Is it .....:'))\n",
    "    \n",
    "    if guess == number:\n",
    "        print(' yes, this is the number. correct!')\n",
    "    elif guess > number:\n",
    "        print(\"It's not so big\")\n",
    "    elif guess < number:\n",
    "        print(\"It's not so small\")"
   ]
  },
  {
   "cell_type": "code",
   "execution_count": 16,
   "metadata": {},
   "outputs": [
    {
     "name": "stdout",
     "output_type": "stream",
     "text": [
      "Is it .....:6\n",
      "It's not so small\n",
      "Is it .....:9\n",
      "It's not so big\n",
      "Is it .....:1\n",
      "It's not so small\n",
      "Is it .....:7\n",
      " yes, this is the number. correct!\n"
     ]
    }
   ],
   "source": [
    "#if input words => output numerical error\n",
    "\n",
    "number = 7 #assign value to number\n",
    "guess = None \n",
    "\n",
    "try:\n",
    "    while guess != number:\n",
    "        guess = int(input('Is it .....:'))\n",
    "        \n",
    "        if guess == number:\n",
    "            print(' yes, this is the number. correct!')\n",
    "        elif guess > number:\n",
    "            print(\"It's not so big\")\n",
    "        elif guess < number:\n",
    "            print(\"It's not so small\")\n",
    "\n",
    "except:\n",
    "    print('Numerical error, Please input number')"
   ]
  },
  {
   "cell_type": "code",
   "execution_count": 15,
   "metadata": {},
   "outputs": [
    {
     "name": "stdout",
     "output_type": "stream",
     "text": [
      "Is it .....:9\n",
      "It's not so big\n",
      "Is it .....:5\n",
      "It's not so small\n",
      "Is it .....:7\n",
      " yes, this is the number. correct!\n"
     ]
    }
   ],
   "source": [
    "number = 7 #assign value to number\n",
    "guess = None \n",
    "\n",
    "try:\n",
    "    while guess != number:\n",
    "        guess = int(input('Is it .....:'))\n",
    "        \n",
    "        if guess == number:\n",
    "            print(' yes, this is the number. correct!')\n",
    "        elif guess > number:\n",
    "            print(\"It's not so big\")\n",
    "        else:\n",
    "            print(\"It's not so small\")\n",
    "\n",
    "except:\n",
    "    print('Numerical error, Please input number')\n",
    "    \n",
    "#if => elif => else\n",
    "#note else do not have condition"
   ]
  },
  {
   "cell_type": "code",
   "execution_count": 17,
   "metadata": {},
   "outputs": [
    {
     "name": "stdout",
     "output_type": "stream",
     "text": [
      "Tell me a number7\n",
      "7 is odd\n"
     ]
    }
   ],
   "source": [
    "#Asks for number\n",
    "#prints and informs if it is even or odd.\n",
    "\n",
    "number = float(input('Tell me a number'))\n",
    "\n",
    "if number % 2 == 0:\n",
    "    print(int(number),'is even')\n",
    "elif number % 2 == 1:\n",
    "    print(int(number), 'is odd')\n",
    "else:\n",
    "    print(int(number),'is strange')\n",
    "    \n"
   ]
  },
  {
   "cell_type": "code",
   "execution_count": 19,
   "metadata": {},
   "outputs": [
    {
     "name": "stdout",
     "output_type": "stream",
     "text": [
      "Enter 0 to exit the loop.\n",
      "Enter a number :   7\n",
      "Enter a number :   8\n",
      "Enter a number :   9\n",
      "Enter a number :   2\n",
      "Enter a number :   3\n",
      "Enter a number :   0\n",
      "The average was 5.8\n"
     ]
    }
   ],
   "source": [
    "#keep asking for numbers until 0 is entered\n",
    "\n",
    "count = 0 #put 0, since we need to calculate\n",
    "total = 0 ##put 0, since we need to calculate\n",
    "number = 1 #set to something so that it will not exit the while loop\n",
    "\n",
    "print ('Enter 0 to exit the loop.')\n",
    "\n",
    "while number != 0:\n",
    "    number = float(input('Enter a number :   '))\n",
    "    if number != 0:\n",
    "        count += 1\n",
    "        total += number\n",
    "    if number == 0:\n",
    "        print('The average was', total /count)\n",
    "        \n",
    "        \n"
   ]
  },
  {
   "cell_type": "code",
   "execution_count": 21,
   "metadata": {},
   "outputs": [
    {
     "name": "stdout",
     "output_type": "stream",
     "text": [
      "Enter 0 to exit the loop.\n",
      "Enter a number :   7\n",
      "Enter a number :   8\n",
      "Enter a number :   3\n",
      "Enter a number :   0\n",
      "The average was 6.0\n",
      "The total is 18.0\n",
      "there are 3 numbers submitted\n"
     ]
    }
   ],
   "source": [
    "#keep asking for numbers until 0 is entered\n",
    "\n",
    "count = 0 #put 0, since we need to calculate\n",
    "total = 0 ##put 0, since we need to calculate\n",
    "number = 1 #set to something so that it will not exit the while loop\n",
    "\n",
    "print ('Enter 0 to exit the loop.')\n",
    "\n",
    "while number != 0:\n",
    "    number = float(input('Enter a number :   '))\n",
    "    if number != 0:\n",
    "        count += 1\n",
    "        total += number\n",
    "    if number == 0:\n",
    "        print('The average was', total /count)\n",
    "        print('The total is', total)\n",
    "        print('there are', count, 'numbers submitted')\n",
    "        "
   ]
  },
  {
   "cell_type": "code",
   "execution_count": 23,
   "metadata": {},
   "outputs": [
    {
     "name": "stdout",
     "output_type": "stream",
     "text": [
      "Enter 0 to exit the loop.\n",
      "Enter a number :   5\n",
      "Enter a number :   6\n",
      "Enter a number :   3\n",
      "Enter a number :   2\n",
      "Enter a number :   0\n",
      "The average was 4.0\n",
      "The total is 16.0\n",
      "there are 4 numbers submitted\n"
     ]
    }
   ],
   "source": [
    "#keep asking for numbers until 0 is entered\n",
    "\n",
    "count = 0 #put 0, since we need to calculate\n",
    "total = 0 ##put 0, since we need to calculate\n",
    "number = 1 #set to something so that it will not exit the while loop\n",
    "\n",
    "print ('Enter 0 to exit the loop.')\n",
    "\n",
    "while number != 0:\n",
    "    number = float(input('Enter a number :   '))\n",
    "    if number != 0:\n",
    "        count += 1\n",
    "        total += number\n",
    "    else:\n",
    "        print('The average was', total /count)\n",
    "        print('The total is', total)\n",
    "        print('there are', count, 'numbers submitted')\n",
    "        \n",
    "# if => else\n",
    "# else (refers to opposite of if)/ opposite of != 0"
   ]
  },
  {
   "cell_type": "code",
   "execution_count": 24,
   "metadata": {},
   "outputs": [
    {
     "name": "stdout",
     "output_type": "stream",
     "text": [
      "Program take several numbers then average out\n",
      "How many numbers would u like to average:  3\n",
      "Number 1\n",
      "Enter a number:   1\n",
      "Number 2\n",
      "Enter a number:   6\n",
      "Number 3\n",
      "Enter a number:   9\n",
      "The average was:  5.333333333333333\n"
     ]
    }
   ],
   "source": [
    "#keep asking for number until count numbers have been entered\n",
    "#prints the avg value.\n",
    "\n",
    "#Notice that we use an integer to keep track of how many numbers\n",
    "#floating point number for input of each number\n",
    "\n",
    "sum = 0.0\n",
    "print('Program take several numbers then average out')\n",
    "count = int(input('How many numbers would u like to average:  '))\n",
    "current_count = 0\n",
    "\n",
    "while current_count < count:\n",
    "    current_count += 1\n",
    "    print('Number', current_count)\n",
    "    number = float(input('Enter a number:   '))\n",
    "    sum = sum + number\n",
    "    \n",
    "print('The average was: ', sum/ count )\n",
    "    "
   ]
  },
  {
   "cell_type": "code",
   "execution_count": 26,
   "metadata": {},
   "outputs": [
    {
     "name": "stdout",
     "output_type": "stream",
     "text": [
      "guess the number !\n",
      "Is it.....?5\n",
      "its's bigger...\n",
      "Is it.....?9\n",
      "it's smaller...\n",
      "Is it.....?2\n",
      "its's bigger...\n",
      "Is it.....?7\n",
      " Hooray, you guessed it right\n",
      "That must have been complicated\n"
     ]
    }
   ],
   "source": [
    "#Modify the higher or lower program from this section to keep track\n",
    "#how many times the user has entered the wrong number\n",
    "# If it is more than 3 times, print \"That musthave been complicated.\n",
    "#Else print \"Good job!\"\n",
    "\n",
    "number = 7 #the number i want them to guess\n",
    "guess = -1\n",
    "count = 0 \n",
    "\n",
    "print('guess the number !')\n",
    "\n",
    "while guess != number :\n",
    "    guess = int(input('Is it.....?'))\n",
    "    count += 1\n",
    "    if guess == number:\n",
    "        print(' Hooray, you guessed it right')\n",
    "    elif guess < number:\n",
    "        print(\"its's bigger...\")\n",
    "    else:\n",
    "        print(\"it's smaller...\")\n",
    "        \n",
    "if count > 3:\n",
    "    print('That must have been complicated')\n",
    "else:\n",
    "    print('Good Job!')"
   ]
  },
  {
   "cell_type": "code",
   "execution_count": 27,
   "metadata": {},
   "outputs": [
    {
     "name": "stdout",
     "output_type": "stream",
     "text": [
      "1st number:   4\n",
      "2nd number:   3\n",
      "That is a small number.\n"
     ]
    }
   ],
   "source": [
    "number1 = float(input('1st number:   '))\n",
    "number2 = float(input('2nd number:   '))\n",
    "\n",
    "if number1 + number2 > 100:\n",
    "    print('That is a big number.')\n",
    "else:\n",
    "    print('That is a small number.')"
   ]
  },
  {
   "cell_type": "code",
   "execution_count": null,
   "metadata": {},
   "outputs": [],
   "source": []
  }
 ],
 "metadata": {
  "kernelspec": {
   "display_name": "Python 3",
   "language": "python",
   "name": "python3"
  },
  "language_info": {
   "codemirror_mode": {
    "name": "ipython",
    "version": 3
   },
   "file_extension": ".py",
   "mimetype": "text/x-python",
   "name": "python",
   "nbconvert_exporter": "python",
   "pygments_lexer": "ipython3",
   "version": "3.7.6"
  }
 },
 "nbformat": 4,
 "nbformat_minor": 4
}
